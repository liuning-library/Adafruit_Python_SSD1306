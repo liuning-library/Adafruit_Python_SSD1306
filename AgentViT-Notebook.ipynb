{
  "cells": [
    {
      "cell_type": "markdown",
      "metadata": {
        "id": "rXC93PvZHALw"
      },
      "source": [
        "# Import e path"
      ]
    },
    {
      "cell_type": "code",
      "execution_count": 1,
      "metadata": {
        "id": "JBzM4-qJKiU8",
        "outputId": "3aa55593-4d5f-460b-c9f1-7d3d16b18e11",
        "colab": {
          "base_uri": "https://localhost:8080/"
        }
      },
      "outputs": [
        {
          "output_type": "stream",
          "name": "stdout",
          "text": [
            "Requirement already satisfied: einops in /usr/local/lib/python3.10/dist-packages (0.8.0)\n",
            "Collecting vit_pytorch\n",
            "  Downloading vit_pytorch-1.8.7-py3-none-any.whl.metadata (68 kB)\n",
            "\u001b[2K     \u001b[90m━━━━━━━━━━━━━━━━━━━━━━━━━━━━━━━━━━━━━━━━\u001b[0m \u001b[32m68.8/68.8 kB\u001b[0m \u001b[31m3.3 MB/s\u001b[0m eta \u001b[36m0:00:00\u001b[0m\n",
            "\u001b[?25hRequirement already satisfied: einops>=0.7.0 in /usr/local/lib/python3.10/dist-packages (from vit_pytorch) (0.8.0)\n",
            "Requirement already satisfied: torch>=1.10 in /usr/local/lib/python3.10/dist-packages (from vit_pytorch) (2.5.0+cu121)\n",
            "Requirement already satisfied: torchvision in /usr/local/lib/python3.10/dist-packages (from vit_pytorch) (0.20.0+cu121)\n",
            "Requirement already satisfied: filelock in /usr/local/lib/python3.10/dist-packages (from torch>=1.10->vit_pytorch) (3.16.1)\n",
            "Requirement already satisfied: typing-extensions>=4.8.0 in /usr/local/lib/python3.10/dist-packages (from torch>=1.10->vit_pytorch) (4.12.2)\n",
            "Requirement already satisfied: networkx in /usr/local/lib/python3.10/dist-packages (from torch>=1.10->vit_pytorch) (3.4.2)\n",
            "Requirement already satisfied: jinja2 in /usr/local/lib/python3.10/dist-packages (from torch>=1.10->vit_pytorch) (3.1.4)\n",
            "Requirement already satisfied: fsspec in /usr/local/lib/python3.10/dist-packages (from torch>=1.10->vit_pytorch) (2024.10.0)\n",
            "Requirement already satisfied: sympy==1.13.1 in /usr/local/lib/python3.10/dist-packages (from torch>=1.10->vit_pytorch) (1.13.1)\n",
            "Requirement already satisfied: mpmath<1.4,>=1.1.0 in /usr/local/lib/python3.10/dist-packages (from sympy==1.13.1->torch>=1.10->vit_pytorch) (1.3.0)\n",
            "Requirement already satisfied: numpy in /usr/local/lib/python3.10/dist-packages (from torchvision->vit_pytorch) (1.26.4)\n",
            "Requirement already satisfied: pillow!=8.3.*,>=5.3.0 in /usr/local/lib/python3.10/dist-packages (from torchvision->vit_pytorch) (11.0.0)\n",
            "Requirement already satisfied: MarkupSafe>=2.0 in /usr/local/lib/python3.10/dist-packages (from jinja2->torch>=1.10->vit_pytorch) (3.0.2)\n",
            "Downloading vit_pytorch-1.8.7-py3-none-any.whl (135 kB)\n",
            "\u001b[2K   \u001b[90m━━━━━━━━━━━━━━━━━━━━━━━━━━━━━━━━━━━━━━━━\u001b[0m \u001b[32m135.7/135.7 kB\u001b[0m \u001b[31m9.1 MB/s\u001b[0m eta \u001b[36m0:00:00\u001b[0m\n",
            "\u001b[?25hInstalling collected packages: vit_pytorch\n",
            "Successfully installed vit_pytorch-1.8.7\n"
          ]
        }
      ],
      "source": [
        "!pip install einops\n",
        "!pip install vit_pytorch"
      ]
    },
    {
      "cell_type": "code",
      "execution_count": 2,
      "metadata": {
        "id": "bBKm4O3pn19s"
      },
      "outputs": [],
      "source": [
        "models_save_path = \"/content/drive/MyDrive/Tirocinio/Finale/Models/\"\n",
        "results_save_path_agent = \"/content/drive/MyDrive/Tirocinio/Finale/Results/\"\n",
        "dataset_path = \"/content/drive/MyDrive/Tirocinio/Transformers/Datasets/\""
      ]
    },
    {
      "cell_type": "code",
      "execution_count": 3,
      "metadata": {
        "id": "Yt6SLbwUnu6r",
        "colab": {
          "base_uri": "https://localhost:8080/"
        },
        "outputId": "711ed9e7-b594-4cb9-8718-ee3c5dc6269d"
      },
      "outputs": [
        {
          "output_type": "stream",
          "name": "stdout",
          "text": [
            "Mounted at /content/drive\n"
          ]
        }
      ],
      "source": [
        "from google.colab import drive\n",
        "drive.mount('/content/drive')"
      ]
    },
    {
      "cell_type": "code",
      "execution_count": 4,
      "metadata": {
        "id": "jX7uYCACg2j5"
      },
      "outputs": [],
      "source": [
        "# Libraries for data handling\n",
        "import numpy as np\n",
        "import pandas as pd\n",
        "\n",
        "# Libraries for image manipulation and machine learning\n",
        "import torchvision\n",
        "import torchvision.transforms as transforms\n",
        "import torch\n",
        "import torch.utils.data as data\n",
        "import torch.nn as nn\n",
        "from torch.nn import functional\n",
        "import torch.optim as optim\n",
        "\n",
        "# Libraries for model evaluation metrics\n",
        "from sklearn.metrics import precision_score, recall_score, f1_score, accuracy_score\n",
        "\n",
        "# Libraries for tensor manipulation\n",
        "from einops import rearrange\n",
        "from einops.layers.torch import Rearrange\n",
        "\n",
        "# Libraries for simulation environments (gym)\n",
        "import gym\n",
        "\n",
        "# Libraries for data visualization\n",
        "import matplotlib.pyplot as plt\n",
        "\n",
        "# Other common libraries\n",
        "from collections import namedtuple\n",
        "import math\n",
        "import time\n",
        "import os\n",
        "import random\n"
      ]
    },
    {
      "cell_type": "markdown",
      "metadata": {
        "id": "Xi1SBM-8TRqg"
      },
      "source": [
        "<h3> Seed and Device setting"
      ]
    },
    {
      "cell_type": "code",
      "execution_count": 5,
      "metadata": {
        "id": "zIBVHD-TTU6u",
        "outputId": "8899d4ea-47bb-4b1f-a500-b1346a20ddf0",
        "colab": {
          "base_uri": "https://localhost:8080/"
        }
      },
      "outputs": [
        {
          "output_type": "stream",
          "name": "stderr",
          "text": [
            "/usr/local/lib/python3.10/dist-packages/ipykernel/ipkernel.py:283: DeprecationWarning: `should_run_async` will not call `transform_cell` automatically in the future. Please pass the result to `transformed_cell` argument and any exception that happen during thetransform in `preprocessing_exc_tuple` in IPython 7.17 and above.\n",
            "  and should_run_async(code)\n"
          ]
        }
      ],
      "source": [
        "def set_seed(seed):\n",
        "    random.seed(seed)\n",
        "    os.environ['PYTHONHASHSEED'] = str(seed)\n",
        "    np.random.seed(seed)\n",
        "    torch.manual_seed(seed)\n",
        "    torch.cuda.manual_seed(seed)\n",
        "    torch.cuda.manual_seed_all(seed)\n",
        "    torch.backends.cudnn.deterministic = True\n",
        "\n",
        "set_seed(42)"
      ]
    },
    {
      "cell_type": "code",
      "execution_count": 6,
      "metadata": {
        "id": "qL0i8NnGpUPc"
      },
      "outputs": [],
      "source": [
        "device = torch.device('cuda:0' if torch.cuda.is_available() else 'cpu')"
      ]
    },
    {
      "cell_type": "markdown",
      "metadata": {
        "id": "-WOxO6GNga2i"
      },
      "source": [
        "# ViT Modified"
      ]
    },
    {
      "cell_type": "code",
      "execution_count": 7,
      "metadata": {
        "id": "QEb3_9NQghtP"
      },
      "outputs": [],
      "source": [
        "def pair(t):\n",
        "    return t if isinstance(t, tuple) else (t, t)\n",
        "\n",
        "def posemb_sincos_2d(patches, temperature = 10000, dtype = torch.float32):\n",
        "    _, h, w, dim, device, dtype = *patches.shape, patches.device, patches.dtype\n",
        "\n",
        "    y, x = torch.meshgrid(torch.arange(h, device = device), torch.arange(w, device = device), indexing = 'ij')\n",
        "    assert (dim % 4) == 0, 'feature dimension must be multiple of 4 for sincos emb'\n",
        "    omega = torch.arange(dim // 4, device = device) / (dim // 4 - 1)\n",
        "    omega = 1. / (temperature ** omega)\n",
        "\n",
        "    y = y.flatten()[:, None] * omega[None, :]\n",
        "    x = x.flatten()[:, None] * omega[None, :]\n",
        "    pe = torch.cat((x.sin(), x.cos(), y.sin(), y.cos()), dim = 1)\n",
        "    return pe.type(dtype)\n",
        "\n",
        "# classes\n",
        "\n",
        "class FeedForward(nn.Module):\n",
        "    def __init__(self, dim, hidden_dim):\n",
        "        super().__init__()\n",
        "        self.net = nn.Sequential(\n",
        "            nn.LayerNorm(dim),\n",
        "            nn.Linear(dim, hidden_dim),\n",
        "            nn.GELU(),\n",
        "            nn.Linear(hidden_dim, dim),\n",
        "        )\n",
        "    def forward(self, x):\n",
        "        return self.net(x)\n",
        "\n",
        "class Attention(nn.Module):\n",
        "    def __init__(self, dim, heads = 8, dim_head = 64):\n",
        "        super().__init__()\n",
        "        inner_dim = dim_head *  heads\n",
        "        self.heads = heads\n",
        "        self.scale = dim_head ** -0.5\n",
        "        self.norm = nn.LayerNorm(dim)\n",
        "\n",
        "        self.attend = nn.Softmax(dim = -1)\n",
        "\n",
        "        self.to_qkv = nn.Linear(dim, inner_dim * 3, bias = False)\n",
        "        self.to_out = nn.Linear(inner_dim, dim, bias = False)\n",
        "\n",
        "    def forward(self, x):\n",
        "        x = self.norm(x)\n",
        "\n",
        "        qkv = self.to_qkv(x).chunk(3, dim = -1)\n",
        "        q, k, v = map(lambda t: rearrange(t, 'b n (h d) -> b h n d', h = self.heads), qkv)\n",
        "\n",
        "        dots = torch.matmul(q, k.transpose(-1, -2)) * self.scale\n",
        "\n",
        "        attn = self.attend(dots)\n",
        "\n",
        "        out = torch.matmul(attn, v)\n",
        "        out = rearrange(out, 'b h n d -> b n (h d)')\n",
        "        return self.to_out(out)\n",
        "\n",
        "class Transformer(nn.Module):\n",
        "    def __init__(self, dim, depth, heads, dim_head, mlp_dim):\n",
        "        super().__init__()\n",
        "        self.layers = nn.ModuleList([])\n",
        "        for _ in range(depth):\n",
        "            self.layers.append(nn.ModuleList([\n",
        "                Attention(dim, heads = heads, dim_head = dim_head),\n",
        "                FeedForward(dim, mlp_dim)\n",
        "            ]))\n",
        "    def forward(self, x):\n",
        "        for attn, ff in self.layers:\n",
        "            x = attn(x) + x\n",
        "            x = ff(x) + x\n",
        "        return x\n",
        "\n",
        "class SimpleAgentViT(nn.Module):\n",
        "    def __init__(self, *, image_size, patch_size, num_classes, dim, depth, heads, mlp_dim, channels = 3, dim_head = 64):\n",
        "        super().__init__()\n",
        "\n",
        "        self.patches = []\n",
        "\n",
        "        image_height, image_width = pair(image_size)\n",
        "        patch_height, patch_width = pair(patch_size)\n",
        "\n",
        "        assert image_height % patch_height == 0 and image_width % patch_width == 0, 'Image dimensions must be divisible by the patch size.'\n",
        "\n",
        "        num_patches = (image_height // patch_height) * (image_width // patch_width)\n",
        "        patch_dim = channels * patch_height * patch_width\n",
        "\n",
        "        self.to_patch_embedding = nn.Sequential(\n",
        "            Rearrange('b c (h p1) (w p2) -> b h w (p1 p2 c)', p1 = patch_height, p2 = patch_width),\n",
        "            nn.LayerNorm(patch_dim),\n",
        "            nn.Linear(patch_dim, dim),\n",
        "            nn.LayerNorm(dim),\n",
        "        )\n",
        "\n",
        "        self.transformer = Transformer(dim, depth, heads, dim_head, mlp_dim)\n",
        "\n",
        "        self.to_latent = nn.Identity()\n",
        "        self.linear_head = nn.Sequential(\n",
        "            nn.LayerNorm(dim),\n",
        "            nn.Linear(dim, num_classes)\n",
        "        )\n",
        "\n",
        "    def forward(self, img):\n",
        "        *_, h, w, dtype = *img.shape, img.dtype\n",
        "\n",
        "        x = self.to_patch_embedding(img)\n",
        "        pe = posemb_sincos_2d(x)\n",
        "        x = rearrange(x, 'b ... d -> b (...) d') + pe\n",
        "\n",
        "        # Masking the input based on selected patches\n",
        "        mask = torch.tensor(self.patches, dtype=torch.bool)\n",
        "        x = x[:, mask, :]\n",
        "\n",
        "        x = self.transformer(x)\n",
        "\n",
        "        x = x.mean(dim = 1)\n",
        "\n",
        "        x = self.to_latent(x)\n",
        "        return self.linear_head(x)\n",
        "\n",
        "    def set_patches(self, patch):\n",
        "        mean = torch.mean(patch)\n",
        "        selected = [0 if elem < mean else 1 for elem in patch]\n",
        "        self.patches = selected\n",
        "\n",
        "    def get_patches(self):\n",
        "        return self.patches\n",
        "\n",
        "    def get_att(self, img):\n",
        "        *_, h, w, dtype = *img.shape, img.dtype\n",
        "\n",
        "        x = self.to_patch_embedding(img)\n",
        "        pe = posemb_sincos_2d(x)\n",
        "        x = rearrange(x, 'b ... d -> b (...) d') + pe\n",
        "\n",
        "        attn, ff = self.transformer.layers[0]\n",
        "        x = attn(x)\n",
        "        x = torch.mean(x, dim=2)\n",
        "        return x\n"
      ]
    },
    {
      "cell_type": "markdown",
      "metadata": {
        "id": "ng75uqlIgCvl"
      },
      "source": [
        "# Dataset"
      ]
    },
    {
      "cell_type": "markdown",
      "metadata": {
        "id": "diI87IeqHIE5"
      },
      "source": [
        "<h3> Dataset Parameters"
      ]
    },
    {
      "cell_type": "code",
      "execution_count": 8,
      "metadata": {
        "id": "XLxr6JMmgP0g"
      },
      "outputs": [],
      "source": [
        "batch_size = 128\n",
        "img_size = 32\n",
        "dataset_name = \"CIFAR10_BIG_\""
      ]
    },
    {
      "cell_type": "markdown",
      "metadata": {
        "id": "SWAh2lXxHQhL"
      },
      "source": [
        "## Train, validation and test"
      ]
    },
    {
      "cell_type": "code",
      "execution_count": 9,
      "metadata": {
        "colab": {
          "base_uri": "https://localhost:8080/"
        },
        "id": "TPPcrxFQHS-r",
        "outputId": "76227f82-2611-4c8e-8cb0-db145a8d72e4"
      },
      "outputs": [
        {
          "output_type": "stream",
          "name": "stdout",
          "text": [
            "Files already downloaded and verified\n",
            "Files already downloaded and verified\n",
            "['airplane', 'automobile', 'bird', 'cat', 'deer', 'dog', 'frog', 'horse', 'ship', 'truck']\n"
          ]
        }
      ],
      "source": [
        "transform_train = transforms.Compose([\n",
        "    transforms.RandomCrop(32, padding=4),\n",
        "    transforms.Resize(img_size),\n",
        "    transforms.RandomHorizontalFlip(),\n",
        "    transforms.ToTensor(),\n",
        "    transforms.Normalize((0.4914, 0.4822, 0.4465), (0.2023, 0.1994, 0.2010)),\n",
        "])\n",
        "\n",
        "transform_validation = transforms.Compose([\n",
        "    transforms.Resize(img_size),\n",
        "    transforms.ToTensor(),\n",
        "    transforms.Normalize((0.4914, 0.4822, 0.4465), (0.2023, 0.1994, 0.2010)),\n",
        "])\n",
        "\n",
        "\n",
        "# Prepare/download dataset\n",
        "trainset = torchvision.datasets.CIFAR10(root=dataset_path, train=True, download=True, transform=transform_train)\n",
        "train_loader = torch.utils.data.DataLoader(trainset, batch_size=batch_size, shuffle=True, num_workers=2, pin_memory=True)\n",
        "\n",
        "validationset = torchvision.datasets.CIFAR10(root=dataset_path, train=False, download=True, transform=transform_validation)\n",
        "\n",
        "dataset_size = len(validationset)\n",
        "validation_size = int(0.95 * dataset_size)\n",
        "test_size = dataset_size - validation_size\n",
        "\n",
        "validationset, testset = data.random_split(validationset, [validation_size, test_size])\n",
        "\n",
        "validation_loader = torch.utils.data.DataLoader(validationset, batch_size=batch_size, shuffle=False, num_workers=2, pin_memory=True)\n",
        "test_loader = torch.utils.data.DataLoader(testset, batch_size=batch_size, shuffle=False, num_workers=2, pin_memory=True)\n",
        "\n",
        "classes = trainset.classes\n",
        "print(classes)"
      ]
    },
    {
      "cell_type": "markdown",
      "metadata": {
        "id": "_4JC4EFqtfK5"
      },
      "source": [
        "# Agent"
      ]
    },
    {
      "cell_type": "markdown",
      "metadata": {
        "id": "YL2DwKZ1Mdkr"
      },
      "source": [
        "### Functions for training and validation"
      ]
    },
    {
      "cell_type": "markdown",
      "metadata": {
        "id": "s23a3lOfW9Vt"
      },
      "source": [
        "<h3> Training function"
      ]
    },
    {
      "cell_type": "code",
      "execution_count": 23,
      "metadata": {
        "colab": {
          "base_uri": "https://localhost:8080/"
        },
        "id": "Ovr7ex3oW9Vu",
        "outputId": "cdb08642-2a14-4a80-e44d-80841122681c"
      },
      "outputs": [
        {
          "output_type": "stream",
          "name": "stderr",
          "text": [
            "/usr/local/lib/python3.10/dist-packages/ipykernel/ipkernel.py:283: DeprecationWarning: `should_run_async` will not call `transform_cell` automatically in the future. Please pass the result to `transformed_cell` argument and any exception that happen during thetransform in `preprocessing_exc_tuple` in IPython 7.17 and above.\n",
            "  and should_run_async(code)\n"
          ]
        }
      ],
      "source": [
        "def train_iter_agent(model, optimizer, data, target):\n",
        "    start_time = time.time()\n",
        "\n",
        "    model.train()\n",
        "\n",
        "    optimizer.zero_grad()\n",
        "    out = functional.log_softmax(model(data), dim=1)\n",
        "    print(len(out))\n",
        "    print(\"out is: \",out,\"\\n\",\"target is: \",target)\n",
        "    loss = functional.nll_loss(out, target)\n",
        "    loss.backward()\n",
        "    optimizer.step()\n",
        "\n",
        "    iteration_time = time.time() - start_time\n",
        "\n",
        "    return loss.item(), iteration_time"
      ]
    },
    {
      "cell_type": "markdown",
      "metadata": {
        "id": "hPJXg-BrW9Vu"
      },
      "source": [
        "<h3> Validation function"
      ]
    },
    {
      "cell_type": "code",
      "execution_count": 11,
      "metadata": {
        "id": "kJAbGNuUW9Vv"
      },
      "outputs": [],
      "source": [
        "def evaluate_agent(model, data_load, device):\n",
        "\n",
        "    patches = model.get_patches()\n",
        "    model.set_patches(torch.tensor([1 for i in range(len(patches))], dtype=torch.float))\n",
        "    model.eval()\n",
        "\n",
        "\n",
        "    elements = 0\n",
        "    csamp = 0\n",
        "    tloss = 0\n",
        "\n",
        "    with torch.no_grad():\n",
        "        for data, target in data_load:\n",
        "\n",
        "            elements += len(data)\n",
        "            data = data.to(device)\n",
        "            target = target.to(device)\n",
        "\n",
        "            output = functional.log_softmax(model(data), dim=1)\n",
        "            loss = functional.nll_loss(output, target, reduction='sum')\n",
        "            _, pred = torch.max(output, dim=1)\n",
        "\n",
        "            tloss += loss.item()\n",
        "            csamp += pred.eq(target).sum()\n",
        "\n",
        "    loss_val = tloss / elements\n",
        "    acc_val = (100.0 * csamp / elements).cpu()\n",
        "\n",
        "    print('\\nAverage test loss: ' + '{:.4f}'.format(loss_val) +\n",
        "          '  Accuracy:' + '{:5}'.format(csamp) + '/' +\n",
        "          '{:5}'.format(elements) + ' (' +\n",
        "          '{:4.2f}'.format(acc_val) + '%)\\n')\n",
        "\n",
        "    model.set_patches(patches)\n",
        "\n",
        "    return loss_val, acc_val\n"
      ]
    },
    {
      "cell_type": "markdown",
      "metadata": {
        "id": "wUq7D2X6SUUt"
      },
      "source": [
        "<h3> Function for training and validation"
      ]
    },
    {
      "cell_type": "code",
      "execution_count": 12,
      "metadata": {
        "id": "A96Nmu5cSUUv"
      },
      "outputs": [],
      "source": [
        "def train_validation_agent(model, optimizer, train_data, train_target, validation_loader, device):\n",
        "\n",
        "  start_time = time.time()\n",
        "\n",
        "  tr_loss = train_iter_agent(model, optimizer, train_data, train_target)\n",
        "\n",
        "  val_loss, val_acc = evaluate_agent(model, validation_loader, device)\n",
        "\n",
        "  iteration_time = time.time() - start_time\n",
        "\n",
        "  return tr_loss, val_loss, val_acc, iteration_time"
      ]
    },
    {
      "cell_type": "markdown",
      "metadata": {
        "id": "dDu_n6NZDqEs"
      },
      "source": [
        "### Environment Custom"
      ]
    },
    {
      "cell_type": "code",
      "execution_count": 13,
      "metadata": {
        "id": "idH3FP53SV6S"
      },
      "outputs": [],
      "source": [
        "# Action space represented with a vector with one element for every feature\n",
        "class MultiContinue():\n",
        "\n",
        "    def __init__(self,  n_patch, device):\n",
        "        self.n_patch = n_patch\n",
        "        self.device = device\n",
        "\n",
        "    def sample(self):\n",
        "        action = np.random.rand(self.n_patch)\n",
        "        return torch.tensor(action, device=self.device, dtype=torch.float)\n",
        "\n",
        "\n",
        "\n",
        "class ViTEnv(gym.Env):\n",
        "    def __init__(self, ViTnet, n_patch, optimizer, loss_weight, time_weight, device, n_patch_selected = 1, seed = None):\n",
        "        super().__init__()\n",
        "\n",
        "        self.ViTnet = ViTnet\n",
        "        self.optimizer = optimizer\n",
        "\n",
        "        self.seed = seed\n",
        "\n",
        "        self.loss_weight = loss_weight\n",
        "        self.time_weight = time_weight\n",
        "\n",
        "        self.action_space = MultiContinue(n_patch, device)\n",
        "\n",
        "        self.device = device\n",
        "\n",
        "        self.train_loss_list = []\n",
        "        self.train_time_list = []\n",
        "\n",
        "    def step_train(self, action, train_data, train_target):\n",
        "\n",
        "        self.ViTnet.set_patches(action)\n",
        "\n",
        "        train_iter_agent(self.ViTnet, self.optimizer, train_data, train_target)\n",
        "\n",
        "\n",
        "    def step_reward(self, action, train_data, train_target):\n",
        "\n",
        "        self.ViTnet.set_patches(action)\n",
        "\n",
        "        action = ViTnet.get_patches()\n",
        "\n",
        "        print(f'  Patch list: {action}')\n",
        "        print(f'  Selected Patches: {action.count(1)}')\n",
        "\n",
        "        reward = self.get_reward(action, train_data = train_data, train_target = train_target)\n",
        "\n",
        "        return self.get_state(train_data), reward\n",
        "\n",
        "\n",
        "    def get_reward(self, action, train_data, train_target):\n",
        "\n",
        "        train_loss, iteration_time = train_iter_agent(self.ViTnet, self.optimizer, train_data, train_target)\n",
        "\n",
        "        self.train_time_list.append(iteration_time)\n",
        "        self.train_loss_list.append(train_loss)\n",
        "\n",
        "        num_zeros = action.count(0)\n",
        "        ideal_zeros = len(action) - n_patch_selected;\n",
        "        patches_reward = (- abs(num_zeros - ideal_zeros) / ideal_zeros)\n",
        "        loss_reward = (self.train_loss_list[0]/train_loss)\n",
        "        print(f'  loss_reward: {loss_reward}')\n",
        "        print(f'  patches_reward: {patches_reward}')\n",
        "        reward = loss_reward * self.loss_weight + patches_reward * self.time_weight\n",
        "\n",
        "        return reward\n",
        "\n",
        "    def get_state(self, data):\n",
        "        with torch.no_grad():\n",
        "          return self.ViTnet.get_att(data)"
      ]
    },
    {
      "cell_type": "markdown",
      "metadata": {
        "id": "Nql4-HUNB9YC"
      },
      "source": [
        "### Agent"
      ]
    },
    {
      "cell_type": "markdown",
      "metadata": {
        "id": "_7Ib1YOtCm8f"
      },
      "source": [
        "<h3> ReplayBuffer"
      ]
    },
    {
      "cell_type": "code",
      "execution_count": 14,
      "metadata": {
        "id": "NSphXSKtCmD0"
      },
      "outputs": [],
      "source": [
        "Transition = namedtuple('Transition',\n",
        "                        ('state', 'new_state', 'reward'))\n",
        "\n",
        "\n",
        "class ReplayBuffer(object):\n",
        "    def __init__(self, capacity, batch_size):\n",
        "        self.batch_size = batch_size\n",
        "        self.memory = []\n",
        "        self.capacity = capacity\n",
        "\n",
        "    def push(self, *args):\n",
        "        if len(self.memory) >= self.capacity:\n",
        "            index_to_remove = random.randint(0, len(self.memory) - 1)\n",
        "            self.memory.pop(index_to_remove)\n",
        "        self.memory.append(Transition(*args))\n",
        "\n",
        "    def sample(self):\n",
        "        return random.sample(self.memory, self.batch_size)\n",
        "\n",
        "    def __len__(self):\n",
        "        return len(self.memory)\n"
      ]
    },
    {
      "cell_type": "markdown",
      "metadata": {
        "id": "gfLC5v9ZNZec"
      },
      "source": [
        "<h3> Network"
      ]
    },
    {
      "cell_type": "code",
      "execution_count": 15,
      "metadata": {
        "id": "HD6gBCeAZoIW"
      },
      "outputs": [],
      "source": [
        "class QNetwork(nn.Module):\n",
        "    def __init__(self, n_patches):\n",
        "        super(QNetwork, self).__init__()\n",
        "\n",
        "        self.fc_layers = nn.Sequential(\n",
        "            nn.Linear(n_patches, 1024),\n",
        "            nn.ReLU(),\n",
        "            nn.Linear(1024, 256),\n",
        "            nn.ReLU(),\n",
        "            nn.Linear(256, n_patches)\n",
        "        )\n",
        "\n",
        "\n",
        "    def forward(self, input):\n",
        "        x = self.fc_layers(input)\n",
        "        return x"
      ]
    },
    {
      "cell_type": "markdown",
      "metadata": {
        "id": "RklS8bNqNbZE"
      },
      "source": [
        "<h3> Agente"
      ]
    },
    {
      "cell_type": "code",
      "execution_count": 16,
      "metadata": {
        "id": "94fX3nexEgNe"
      },
      "outputs": [],
      "source": [
        "class DQNAgent():\n",
        "    def __init__(self, batch_size, att_dim, n_patches, buffer_size, gamma, tau, update_every, lr, env, device):\n",
        "        self.batch_size = batch_size\n",
        "        self.gamma = gamma\n",
        "\n",
        "        # soft update parameter\n",
        "        self.tau = tau\n",
        "        # soft_update frequency\n",
        "        self.step = 0\n",
        "        self.update_every = update_every\n",
        "\n",
        "        # learning rate\n",
        "        self.lr = lr\n",
        "\n",
        "        # device (CPU o GPU)\n",
        "        self.device = device\n",
        "\n",
        "        # environment\n",
        "        self.env = env\n",
        "\n",
        "        # agent net\n",
        "        self.q_network = QNetwork(n_patches).to(self.device)\n",
        "        # target net\n",
        "        self.target_network = QNetwork(n_patches).to(self.device)\n",
        "        self.target_network.load_state_dict(self.q_network.state_dict())\n",
        "\n",
        "        self.optimizer = optim.AdamW(self.q_network.parameters(), lr=lr, amsgrad=True)\n",
        "        # replay memory\n",
        "        self.memory = ReplayBuffer(buffer_size, batch_size)\n",
        "\n",
        "\n",
        "    def select_action(self, data, eps = 0.):\n",
        "\n",
        "        sample = random.random()\n",
        "\n",
        "        if sample > eps:\n",
        "            with torch.no_grad():\n",
        "                selected_batch = self.q_network(data)\n",
        "                selected = torch.mean(selected_batch, dim=0)\n",
        "                return selected\n",
        "        else:\n",
        "            selected = self.env.action_space.sample()\n",
        "            return selected\n",
        "\n",
        "\n",
        "\n",
        "    def optimize_model(self):\n",
        "        if len(self.memory) < self.batch_size:\n",
        "            return\n",
        "        transitions = self.memory.sample()\n",
        "\n",
        "        batch = Transition(*zip(*transitions))\n",
        "\n",
        "        state_batch = torch.cat(batch.state).to(self.device)\n",
        "        new_state_batch = torch.cat(batch.new_state).to(self.device)\n",
        "        reward_batch = torch.cat(batch.reward).to(self.device)\n",
        "\n",
        "        state_action_values = self.q_network(state_batch)\n",
        "\n",
        "        with torch.no_grad():\n",
        "            next_state_values = self.target_network(new_state_batch)\n",
        "\n",
        "        expected_state_action_values = (next_state_values * self.gamma) + reward_batch.unsqueeze(1)\n",
        "\n",
        "        criterion = nn.SmoothL1Loss()\n",
        "        loss = criterion(state_action_values, expected_state_action_values)\n",
        "\n",
        "        self.optimizer.zero_grad()\n",
        "        loss.backward()\n",
        "        torch.nn.utils.clip_grad_value_(self.q_network.parameters(), 100)\n",
        "        self.optimizer.step()\n",
        "\n",
        "        self.step += 1\n",
        "        if self.step == self.update_every:\n",
        "            self.soft_update()\n",
        "            self.step = 0\n",
        "\n",
        "\n",
        "    def soft_update(self):\n",
        "        target_network_state_dict = self.target_network.state_dict()\n",
        "        q_network_state_dict = self.q_network.state_dict()\n",
        "        for key in q_network_state_dict:\n",
        "            target_network_state_dict[key] = q_network_state_dict[key]*self.tau + target_network_state_dict[key]*(1-self.tau)\n",
        "        self.target_network.load_state_dict(target_network_state_dict)"
      ]
    },
    {
      "cell_type": "markdown",
      "metadata": {
        "id": "7S_pihMq-XeA"
      },
      "source": [
        "### Class for Training e il Testing"
      ]
    },
    {
      "cell_type": "code",
      "execution_count": 17,
      "metadata": {
        "id": "0nzPHF1d-ckO"
      },
      "outputs": [],
      "source": [
        "class TrainingTestingAgent():\n",
        "\n",
        "    def __init__(self, buffer_batch_size, get_reward_every, batch_size, model, att_dim, n_patches, epochs, env, buffer_size, gamma, tau, update_every, lr, eps_end, eps_start, eps_decay, train_loader, validation_loader, device):\n",
        "\n",
        "      self.env = env\n",
        "\n",
        "      self.epochs = epochs\n",
        "      self.eps_start = eps_start\n",
        "      self.eps_end = eps_end\n",
        "      self.eps_decay = eps_decay\n",
        "      self.get_reward_every = get_reward_every\n",
        "\n",
        "      self.batch_size = batch_size\n",
        "\n",
        "      self.validation_acc = []\n",
        "      self.validation_loss = []\n",
        "      self.epoch_time_list = []\n",
        "      self.validation_precision = []\n",
        "      self.validation_recall = []\n",
        "      self.validation_f1 = []\n",
        "\n",
        "      self.ViTnet = model\n",
        "\n",
        "      self.n_patches = n_patches\n",
        "\n",
        "      # creazione agente\n",
        "      self.agent = DQNAgent(buffer_batch_size, att_dim, n_patches, buffer_size, gamma, tau, update_every, lr, self.env, device)\n",
        "\n",
        "      self.train_loader = train_loader\n",
        "      self.validation_loader = validation_loader\n",
        "\n",
        "      self.device = device\n",
        "\n",
        "\n",
        "    def train_test(self):\n",
        "\n",
        "      # lista dei reward ad ogni step\n",
        "      step_reward = []\n",
        "      selected_patch_list = []\n",
        "      epoch = 0\n",
        "      iteration = 0\n",
        "      eps = self.eps_start\n",
        "\n",
        "      while epoch < self.epochs:\n",
        "\n",
        "          epoch += 1\n",
        "          print(f'Epoch: {epoch}/{self.epochs}')\n",
        "\n",
        "          start_time = time.time()\n",
        "          samples = len(self.train_loader.dataset)\n",
        "\n",
        "          for i, (data, target) in enumerate(self.train_loader):\n",
        "              i +=1\n",
        "\n",
        "              iteration += 1\n",
        "\n",
        "              data = data.to(self.device)\n",
        "              target = target.to(self.device)\n",
        "\n",
        "              state = self.env.get_state(data)\n",
        "\n",
        "              patch_list = self.agent.select_action(state, eps)\n",
        "\n",
        "              selected_patch_list.append(patch_list)\n",
        "\n",
        "              # alleno\n",
        "              if i % self.get_reward_every != 0:\n",
        "                self.env.step_train(patch_list, data, target)\n",
        "\n",
        "              # alleno e testo il ViT\n",
        "              else:\n",
        "                new_state, reward = self.env.step_reward(patch_list, data, target)\n",
        "\n",
        "                print(f'  Epsilon: {eps},   Reward: {reward}')\n",
        "\n",
        "                step_reward.append(reward)\n",
        "\n",
        "                reward = torch.full((self.batch_size, ), reward, dtype=torch.float32)\n",
        "\n",
        "                if epoch != 1:\n",
        "                  # inseriamo le osservazioni nella replayMemory\n",
        "                  self.agent.memory.push(state, new_state, reward)\n",
        "\n",
        "                  # ottimizziamo l'agente\n",
        "                  self.agent.optimize_model()\n",
        "\n",
        "              eps = self.eps_end + (self.eps_start - self.eps_end) * math.exp(-1. * iteration / self.eps_decay)\n",
        "\n",
        "          print(f'\\nInizio Testing')\n",
        "          loss, acc, precision, recall, f1 = self.evaluate_epoch(self.validation_loader, models_save_path, dataset_name, self.device)\n",
        "\n",
        "          epoch_time = time.time()-start_time\n",
        "\n",
        "          self.validation_acc.append(acc)\n",
        "          self.validation_loss.append(loss)\n",
        "          self.validation_precision.append(precision)\n",
        "          self.validation_recall.append(recall)\n",
        "          self.validation_f1.append(f1)\n",
        "          self.epoch_time_list.append(epoch_time)\n",
        "\n",
        "          print(f'Epoch time: {epoch_time}')\n",
        "          print(\"#\"*40)\n",
        "\n",
        "\n",
        "          print(\"#\"*40)\n",
        "          print('Episode End')\n",
        "          print(\"#\"*40)\n",
        "          print(\"#\"*40)\n",
        "\n",
        "      return step_reward, selected_patch_list\n",
        "\n",
        "\n",
        "\n",
        "    def evaluate_epoch(self, data_load, models_save_path, dataset_name, device):\n",
        "        patches = self.ViTnet.get_patches()\n",
        "        self.ViTnet.set_patches(torch.tensor([1 for i in range(len(patches))], dtype=torch.float))\n",
        "\n",
        "        self.ViTnet.eval()\n",
        "\n",
        "\n",
        "        elements = 0\n",
        "        # predizioni corrette\n",
        "        csamp = 0\n",
        "        tloss = 0\n",
        "        all_predictions = []\n",
        "        all_targets = []\n",
        "\n",
        "        with torch.no_grad():\n",
        "            for data, target in data_load:\n",
        "\n",
        "                elements += len(data)\n",
        "                data = data.to(device)\n",
        "                target = target.to(device)\n",
        "\n",
        "                predictions = self.ViTnet(data)\n",
        "\n",
        "                output = functional.log_softmax(predictions, dim=1)\n",
        "                loss = functional.nll_loss(output, target, reduction='sum')\n",
        "                _, pred = torch.max(output, dim=1)\n",
        "\n",
        "                predictions = torch.argmax(predictions, dim=1).cpu().numpy()\n",
        "\n",
        "                tloss += loss.item()\n",
        "                csamp += pred.eq(target).sum()\n",
        "\n",
        "                all_predictions.extend(predictions)\n",
        "                all_targets.extend(target.cpu())\n",
        "\n",
        "        loss_val = tloss / elements\n",
        "        acc_val = (100.0 * csamp / elements).cpu()\n",
        "\n",
        "\n",
        "        print('\\n\\nAverage test loss: ' + '{:.4f}'.format(loss_val) +\n",
        "              '  Accuracy:' + '{:5}'.format(csamp) + '/' +\n",
        "              '{:5}'.format(elements) + ' (' +\n",
        "              '{:4.2f}'.format(acc_val) + '%)\\n')\n",
        "\n",
        "\n",
        "        precision = precision_score(all_targets, all_predictions, average='weighted')\n",
        "        recall = recall_score(all_targets, all_predictions, average='weighted')\n",
        "        f1 = f1_score(all_targets, all_predictions, average='weighted')\n",
        "\n",
        "        return loss_val, acc_val, precision, recall, f1\n",
        "\n",
        "\n",
        "    def train_info(self):\n",
        "\n",
        "        return {\n",
        "                'train_loss': self.env.train_loss_list,\n",
        "                'train_time': self.env.train_time_list,\n",
        "                }\n",
        "\n",
        "    def validation_info(self):\n",
        "        return {\n",
        "                'validation_loss': self.validation_loss,\n",
        "                'validation_acc': [tensor.item() for tensor in self.validation_acc],\n",
        "                'validation_precision': self.validation_precision,\n",
        "                'validation_recall': self.validation_recall,\n",
        "                'validation_f1': self.validation_f1,\n",
        "                'epoch_time': self.epoch_time_list\n",
        "                }"
      ]
    },
    {
      "cell_type": "markdown",
      "metadata": {
        "id": "S9IYQ9yHAUwe"
      },
      "source": [
        "### Initialization"
      ]
    },
    {
      "cell_type": "markdown",
      "metadata": {
        "id": "kjnJ0YpGOa6E"
      },
      "source": [
        "<h3> Parameters"
      ]
    },
    {
      "cell_type": "code",
      "execution_count": 18,
      "metadata": {
        "id": "TaR2dDv2MQaV"
      },
      "outputs": [],
      "source": [
        "buffer_batch_size = 8\n",
        "buffer_size = 64\n",
        "\n",
        "gamma = 0.95\n",
        "\n",
        "eps_start = 1\n",
        "eps_end = 0.01\n",
        "eps = eps_start\n",
        "eps_decay = 20000\n",
        "\n",
        "lr = 0.01\n",
        "\n",
        "tau = 0.1\n",
        "update_every = 2\n",
        "\n",
        "get_reward_every = 50\n",
        "\n",
        "n_patch_selected = 30\n",
        "\n",
        "time_weight = 20\n",
        "loss_weight = 1"
      ]
    },
    {
      "cell_type": "code",
      "execution_count": 19,
      "metadata": {
        "id": "_ernM9pqoxbd"
      },
      "outputs": [],
      "source": [
        "patch = 8\n",
        "patch_size = int(img_size/patch)\n",
        "\n",
        "att_dim = 128\n",
        "\n",
        "epochs = 100\n",
        "learning_rate = 0.001\n",
        "\n",
        "ViTnet = SimpleAgentViT(\n",
        "    image_size = img_size,\n",
        "    patch_size = patch_size,\n",
        "    num_classes = len(classes),\n",
        "    dim = att_dim,\n",
        "    depth = 6,\n",
        "    heads = 16,\n",
        "    mlp_dim = 512\n",
        ")\n",
        "\n",
        "# Sposta il modello sulla GPU (se disponibile)\n",
        "ViTnet.to(device)\n",
        "\n",
        "# definiamo l'ottimizzatore\n",
        "optimizer = optim.Adam(ViTnet.parameters(), lr=learning_rate)"
      ]
    },
    {
      "cell_type": "code",
      "execution_count": 20,
      "metadata": {
        "id": "iRn2Tplb90tO"
      },
      "outputs": [],
      "source": [
        "total_patches = patch**2\n",
        "\n",
        "env = ViTEnv(ViTnet, total_patches, optimizer, loss_weight, time_weight, device, n_patch_selected)"
      ]
    },
    {
      "cell_type": "code",
      "execution_count": 21,
      "metadata": {
        "id": "x7P_6HzWGn8G"
      },
      "outputs": [],
      "source": [
        "model = TrainingTestingAgent(epochs = epochs,\n",
        "                             model = ViTnet,\n",
        "                             get_reward_every = get_reward_every,\n",
        "                             buffer_batch_size = buffer_batch_size,\n",
        "                             batch_size = batch_size,\n",
        "                             env = env,\n",
        "                             att_dim = att_dim,\n",
        "                             n_patches = total_patches,\n",
        "                             buffer_size = buffer_size,\n",
        "                             gamma = gamma,\n",
        "                             tau = tau,\n",
        "                             update_every = update_every,\n",
        "                             lr = lr,\n",
        "                             eps_end = eps_end,\n",
        "                             eps_start = eps_start,\n",
        "                             eps_decay = eps_decay,\n",
        "                             train_loader = train_loader,\n",
        "                             validation_loader = validation_loader,\n",
        "                             device = device)"
      ]
    },
    {
      "cell_type": "markdown",
      "metadata": {
        "id": "38RJhPQMAaXd"
      },
      "source": [
        "### Train"
      ]
    },
    {
      "cell_type": "code",
      "execution_count": 24,
      "metadata": {
        "id": "g81PySpAHgc5",
        "outputId": "d88ef6bf-7eff-4aa3-c47b-6b50af130090",
        "colab": {
          "base_uri": "https://localhost:8080/",
          "height": 1000
        }
      },
      "outputs": [
        {
          "output_type": "stream",
          "name": "stdout",
          "text": [
            "Epoch: 1/100\n",
            "out is:  tensor([[-1.7200, -1.6022, -3.3514,  ..., -3.6133, -1.0470, -1.8304],\n",
            "        [-2.4091, -1.2002, -3.8861,  ..., -3.2578, -1.5889, -1.1982],\n",
            "        [-2.9955, -1.9304, -2.6588,  ..., -1.2765, -3.4301, -2.2218],\n",
            "        ...,\n",
            "        [-3.6873, -2.3605, -2.9058,  ..., -1.1098, -4.1192, -2.3684],\n",
            "        [-1.4325, -2.5599, -3.4902,  ..., -4.9586, -0.6244, -2.4352],\n",
            "        [-4.0429, -2.6864, -3.0794,  ..., -1.3404, -4.5982, -2.6292]],\n",
            "       device='cuda:0', grad_fn=<LogSoftmaxBackward0>) \n",
            " target is:  tensor([0, 1, 9, 8, 2, 5, 0, 6, 8, 0, 7, 5, 0, 5, 3, 2, 8, 1, 1, 6, 1, 8, 9, 6,\n",
            "        7, 0, 0, 2, 1, 2, 7, 2, 5, 6, 4, 0, 1, 6, 7, 8, 7, 1, 1, 0, 7, 4, 5, 4,\n",
            "        8, 4, 9, 5, 9, 4, 5, 1, 9, 8, 4, 3, 2, 8, 3, 8, 1, 9, 6, 4, 4, 0, 0, 6,\n",
            "        3, 5, 6, 9, 7, 7, 0, 2, 1, 5, 9, 5, 2, 6, 1, 8, 4, 2, 4, 0, 0, 6, 7, 5,\n",
            "        4, 4, 2, 0, 3, 2, 3, 5, 4, 7, 3, 3, 8, 3, 3, 1, 0, 4, 7, 7, 0, 3, 2, 7,\n",
            "        3, 8, 3, 6, 1, 9, 8, 9], device='cuda:0')\n",
            "out is:  tensor([[-3.1858, -5.2505, -1.3692,  ..., -2.8226, -5.1306, -6.1400],\n",
            "        [-2.9594, -1.3638, -3.4316,  ..., -2.0246, -2.6858, -1.2291],\n",
            "        [-2.3735, -1.1784, -3.6440,  ..., -2.8971, -1.8308, -1.2370],\n",
            "        ...,\n",
            "        [-3.5542, -2.6638, -2.7179,  ..., -1.5231, -4.1790, -2.6586],\n",
            "        [-4.4136, -5.0210, -2.1748,  ..., -2.1431, -6.1072, -5.2329],\n",
            "        [-3.9360, -5.3378, -1.6367,  ..., -2.2432, -5.8176, -5.8325]],\n",
            "       device='cuda:0', grad_fn=<LogSoftmaxBackward0>) \n",
            " target is:  tensor([6, 9, 0, 3, 0, 1, 7, 3, 9, 3, 7, 5, 2, 9, 4, 7, 0, 5, 0, 0, 4, 4, 1, 9,\n",
            "        3, 8, 2, 4, 5, 1, 0, 7, 4, 7, 9, 7, 8, 6, 6, 8, 2, 9, 7, 1, 0, 7, 1, 8,\n",
            "        0, 1, 5, 1, 6, 3, 0, 4, 7, 6, 3, 0, 0, 3, 7, 8, 1, 1, 7, 8, 8, 1, 5, 5,\n",
            "        5, 5, 2, 3, 7, 3, 8, 1, 4, 3, 6, 6, 2, 1, 8, 5, 1, 3, 3, 3, 7, 0, 3, 3,\n",
            "        7, 0, 8, 2, 5, 4, 2, 4, 4, 0, 3, 6, 6, 6, 0, 6, 9, 9, 4, 8, 5, 0, 2, 2,\n",
            "        2, 3, 2, 8, 3, 2, 3, 6], device='cuda:0')\n",
            "out is:  tensor([[-3.9771, -4.1887, -2.1267,  ..., -1.5682, -5.4793, -4.4874],\n",
            "        [-5.0096, -4.7673, -2.8730,  ..., -2.2511, -6.1250, -4.6045],\n",
            "        [-3.0582, -1.9030, -2.9368,  ..., -1.7902, -3.2990, -1.7814],\n",
            "        ...,\n",
            "        [-4.4906, -5.3925, -1.9420,  ..., -2.4588, -6.1617, -5.6749],\n",
            "        [-2.6678, -1.3060, -3.3614,  ..., -2.2750, -2.5505, -1.2796],\n",
            "        [-4.4175, -5.0684, -2.0239,  ..., -2.1505, -6.0749, -5.3659]],\n",
            "       device='cuda:0', grad_fn=<LogSoftmaxBackward0>) \n",
            " target is:  tensor([7, 5, 7, 4, 3, 0, 6, 8, 9, 1, 5, 6, 3, 2, 9, 6, 1, 9, 2, 6, 5, 5, 4, 5,\n",
            "        5, 9, 2, 2, 1, 6, 8, 4, 1, 0, 6, 0, 9, 6, 5, 5, 7, 9, 7, 9, 1, 7, 8, 2,\n",
            "        3, 8, 1, 1, 2, 7, 4, 4, 5, 0, 3, 4, 2, 5, 1, 1, 0, 9, 0, 4, 9, 4, 2, 6,\n",
            "        6, 2, 4, 7, 0, 3, 6, 1, 6, 6, 3, 8, 4, 4, 5, 0, 3, 6, 5, 5, 4, 5, 9, 9,\n",
            "        5, 9, 6, 0, 5, 5, 7, 2, 9, 8, 9, 8, 2, 8, 1, 7, 2, 6, 8, 3, 7, 9, 8, 8,\n",
            "        9, 1, 5, 3, 9, 6, 4, 2], device='cuda:0')\n",
            "out is:  tensor([[-1.6838, -1.8650, -2.2253,  ..., -2.1718, -2.2865, -2.3134],\n",
            "        [-2.3624, -1.3255, -3.1822,  ..., -2.4276, -2.3819, -1.3798],\n",
            "        [-3.5007, -3.9466, -1.8978,  ..., -1.7210, -5.0747, -4.4774],\n",
            "        ...,\n",
            "        [-4.1079, -5.5789, -1.4959,  ..., -2.7708, -5.8414, -6.1553],\n",
            "        [-4.5957, -4.7771, -2.5369,  ..., -2.6535, -5.8405, -4.7494],\n",
            "        [-4.6143, -3.9313, -2.9652,  ..., -2.1215, -5.4738, -3.6600]],\n",
            "       device='cuda:0', grad_fn=<LogSoftmaxBackward0>) \n",
            " target is:  tensor([7, 9, 5, 9, 7, 2, 7, 5, 6, 4, 5, 9, 9, 3, 7, 9, 0, 0, 1, 6, 3, 2, 2, 9,\n",
            "        4, 4, 4, 7, 7, 7, 7, 4, 6, 5, 7, 5, 3, 7, 0, 9, 4, 2, 8, 3, 5, 4, 3, 9,\n",
            "        8, 4, 3, 3, 0, 2, 0, 0, 8, 7, 0, 2, 8, 8, 3, 5, 7, 0, 7, 4, 8, 0, 8, 9,\n",
            "        2, 4, 9, 2, 5, 0, 1, 7, 0, 4, 0, 4, 2, 6, 1, 3, 5, 4, 4, 7, 4, 5, 1, 4,\n",
            "        4, 6, 0, 1, 1, 6, 6, 0, 3, 4, 8, 8, 8, 9, 9, 9, 8, 8, 0, 0, 6, 9, 1, 9,\n",
            "        6, 3, 2, 7, 5, 7, 2, 6], device='cuda:0')\n",
            "out is:  tensor([[-3.6214, -5.3406, -1.3818,  ..., -2.7352, -5.4320, -6.1496],\n",
            "        [-3.9113, -5.6085, -1.3320,  ..., -2.9252, -5.6959, -6.2936],\n",
            "        [-3.0127, -2.0522, -2.8644,  ..., -1.9577, -3.4224, -1.8590],\n",
            "        ...,\n",
            "        [-1.4156, -1.6163, -2.7892,  ..., -3.1733, -1.7036, -1.8738],\n",
            "        [-2.4137, -1.6323, -2.8295,  ..., -2.2212, -2.7638, -1.6162],\n",
            "        [-1.9934, -1.9853, -2.1702,  ..., -2.1386, -2.8692, -2.4463]],\n",
            "       device='cuda:0', grad_fn=<LogSoftmaxBackward0>) \n",
            " target is:  tensor([2, 4, 3, 1, 4, 3, 6, 2, 6, 5, 8, 9, 9, 1, 1, 4, 5, 0, 7, 3, 0, 7, 2, 9,\n",
            "        4, 8, 6, 0, 2, 7, 5, 2, 5, 4, 2, 9, 9, 8, 3, 3, 5, 7, 1, 2, 2, 1, 0, 0,\n",
            "        4, 0, 0, 1, 7, 4, 8, 3, 6, 1, 4, 2, 3, 3, 3, 9, 7, 2, 2, 9, 6, 1, 9, 6,\n",
            "        8, 8, 8, 5, 3, 1, 7, 2, 3, 2, 8, 4, 9, 3, 2, 6, 6, 8, 2, 5, 7, 1, 3, 9,\n",
            "        6, 2, 5, 4, 2, 2, 4, 5, 5, 0, 6, 7, 7, 6, 4, 2, 0, 6, 8, 7, 6, 1, 0, 2,\n",
            "        0, 0, 4, 2, 8, 8, 2, 1], device='cuda:0')\n",
            "out is:  tensor([[-2.6154, -1.8931, -2.6611,  ..., -1.7736, -3.0964, -1.7969],\n",
            "        [-2.3163, -2.1801, -2.1752,  ..., -1.8647, -3.1830, -2.3446],\n",
            "        [-0.8561, -2.8400, -3.2996,  ..., -4.9701, -0.9212, -3.1793],\n",
            "        ...,\n",
            "        [-0.8725, -2.5349, -3.4066,  ..., -4.8868, -0.9867, -2.8745],\n",
            "        [-3.4512, -3.3174, -2.1443,  ..., -1.8165, -4.4751, -3.1976],\n",
            "        [-1.1188, -1.8534, -2.6927,  ..., -3.6575, -1.6294, -2.1925]],\n",
            "       device='cuda:0', grad_fn=<LogSoftmaxBackward0>) \n",
            " target is:  tensor([3, 3, 0, 9, 8, 4, 0, 6, 2, 9, 1, 9, 4, 9, 0, 5, 8, 9, 0, 8, 5, 3, 2, 1,\n",
            "        1, 1, 5, 0, 2, 4, 9, 9, 4, 0, 9, 4, 3, 3, 9, 8, 7, 2, 1, 8, 4, 5, 5, 3,\n",
            "        0, 3, 1, 1, 6, 5, 4, 3, 3, 9, 5, 2, 0, 1, 4, 5, 9, 2, 8, 3, 1, 2, 5, 4,\n",
            "        3, 0, 5, 7, 9, 6, 3, 4, 6, 3, 1, 3, 3, 5, 7, 7, 3, 7, 0, 3, 2, 8, 7, 4,\n",
            "        8, 2, 6, 6, 6, 8, 8, 5, 5, 7, 4, 4, 4, 0, 7, 5, 6, 9, 2, 4, 0, 8, 3, 9,\n",
            "        0, 9, 4, 2, 3, 8, 5, 9], device='cuda:0')\n",
            "out is:  tensor([[-4.0732, -5.5060, -1.3046,  ..., -2.9889, -5.7019, -6.2666],\n",
            "        [-4.3306, -4.7158, -1.8561,  ..., -2.1962, -5.8002, -4.6650],\n",
            "        [-4.5059, -4.5121, -2.2804,  ..., -2.4331, -5.7479, -4.1723],\n",
            "        ...,\n",
            "        [-1.2280, -1.7534, -3.1164,  ..., -3.5863, -1.4422, -1.9071],\n",
            "        [-2.7386, -2.2740, -2.4157,  ..., -1.8125, -3.4046, -2.0392],\n",
            "        [-1.4824, -1.8229, -2.5397,  ..., -3.1316, -2.0492, -1.8516]],\n",
            "       device='cuda:0', grad_fn=<LogSoftmaxBackward0>) \n",
            " target is:  tensor([6, 4, 5, 4, 2, 1, 3, 1, 8, 0, 8, 8, 0, 6, 4, 3, 0, 7, 0, 0, 9, 1, 4, 5,\n",
            "        8, 6, 9, 8, 7, 3, 6, 1, 3, 4, 8, 5, 0, 9, 3, 0, 8, 4, 2, 5, 1, 1, 9, 7,\n",
            "        3, 5, 8, 4, 6, 3, 0, 6, 2, 5, 9, 2, 9, 1, 1, 0, 0, 0, 1, 8, 6, 2, 1, 6,\n",
            "        0, 5, 0, 2, 6, 9, 6, 7, 3, 1, 8, 6, 1, 1, 3, 2, 1, 6, 4, 8, 7, 0, 4, 8,\n",
            "        0, 2, 0, 8, 0, 5, 5, 1, 1, 9, 9, 9, 8, 6, 0, 8, 2, 7, 1, 1, 5, 9, 9, 9,\n",
            "        7, 3, 1, 9, 3, 9, 7, 0], device='cuda:0')\n",
            "out is:  tensor([[-2.1967, -2.0759, -2.3325,  ..., -2.2046, -2.8128, -1.8462],\n",
            "        [-4.1131, -5.0789, -1.4252,  ..., -2.4875, -5.8305, -5.3391],\n",
            "        [-2.2269, -1.8252, -2.5647,  ..., -2.1886, -2.7069, -1.6758],\n",
            "        ...,\n",
            "        [-1.7141, -1.7669, -2.6345,  ..., -2.7526, -2.1284, -1.6469],\n",
            "        [-2.0164, -1.8915, -2.5693,  ..., -2.6665, -2.5390, -1.6937],\n",
            "        [-1.6997, -2.1338, -2.0148,  ..., -2.3883, -2.6857, -2.6835]],\n",
            "       device='cuda:0', grad_fn=<LogSoftmaxBackward0>) \n",
            " target is:  tensor([3, 6, 3, 5, 9, 0, 4, 2, 2, 2, 7, 6, 1, 0, 6, 2, 5, 0, 3, 7, 0, 9, 6, 0,\n",
            "        2, 0, 1, 2, 0, 5, 7, 6, 3, 7, 4, 1, 7, 8, 9, 2, 8, 1, 1, 8, 4, 3, 1, 2,\n",
            "        7, 7, 2, 3, 4, 6, 4, 2, 9, 6, 4, 5, 0, 7, 2, 9, 6, 1, 4, 2, 3, 3, 0, 9,\n",
            "        6, 0, 3, 5, 0, 3, 0, 4, 8, 9, 7, 4, 5, 3, 4, 5, 6, 8, 5, 0, 3, 3, 9, 7,\n",
            "        0, 7, 0, 8, 0, 9, 6, 0, 3, 1, 0, 4, 3, 4, 4, 3, 6, 0, 7, 3, 0, 5, 7, 1,\n",
            "        6, 9, 7, 7, 8, 1, 2, 1], device='cuda:0')\n",
            "out is:  tensor([[-4.5695, -5.2400, -1.6279,  ..., -2.9776, -6.2724, -5.4049],\n",
            "        [-1.6901, -1.6246, -2.8022,  ..., -2.8306, -2.0840, -1.6786],\n",
            "        [-4.4584, -4.6530, -2.0174,  ..., -2.7128, -5.8224, -4.3688],\n",
            "        ...,\n",
            "        [-4.4955, -4.7690, -1.8503,  ..., -2.6113, -5.9858, -4.6433],\n",
            "        [-4.8049, -4.5085, -2.6259,  ..., -2.7877, -5.7931, -3.8404],\n",
            "        [-4.0342, -4.1886, -1.9613,  ..., -2.3737, -5.3340, -3.8967]],\n",
            "       device='cuda:0', grad_fn=<LogSoftmaxBackward0>) \n",
            " target is:  tensor([5, 2, 7, 3, 4, 8, 9, 2, 2, 0, 3, 0, 4, 3, 6, 5, 3, 8, 2, 1, 5, 8, 0, 5,\n",
            "        3, 0, 7, 5, 3, 7, 8, 2, 1, 8, 3, 4, 6, 2, 0, 0, 7, 0, 9, 1, 5, 7, 8, 7,\n",
            "        4, 6, 4, 0, 0, 5, 2, 6, 4, 4, 3, 0, 9, 6, 4, 6, 9, 8, 6, 8, 9, 1, 7, 8,\n",
            "        6, 5, 7, 6, 3, 2, 2, 2, 4, 5, 3, 8, 7, 5, 9, 2, 2, 0, 2, 5, 7, 1, 7, 6,\n",
            "        4, 0, 8, 0, 9, 8, 5, 5, 1, 7, 2, 6, 7, 0, 4, 7, 3, 7, 7, 6, 9, 9, 4, 2,\n",
            "        2, 5, 1, 1, 7, 3, 3, 7], device='cuda:0')\n",
            "out is:  tensor([[-1.3361, -1.8153, -2.9393,  ..., -3.4350, -1.6779, -1.7475],\n",
            "        [-4.5309, -4.5975, -2.1549,  ..., -2.7264, -5.8428, -4.2361],\n",
            "        [-4.3082, -5.1764, -1.4040,  ..., -2.7141, -6.0598, -5.5572],\n",
            "        ...,\n",
            "        [-1.6114, -2.3048, -1.9597,  ..., -2.2998, -2.4121, -2.6596],\n",
            "        [-2.1702, -2.1692, -2.1281,  ..., -2.0083, -2.9103, -2.1537],\n",
            "        [-3.8677, -3.5984, -2.2196,  ..., -2.1692, -4.8391, -3.0772]],\n",
            "       device='cuda:0', grad_fn=<LogSoftmaxBackward0>) \n",
            " target is:  tensor([0, 3, 6, 1, 6, 5, 2, 3, 8, 7, 7, 6, 4, 0, 4, 2, 1, 0, 4, 2, 3, 6, 5, 2,\n",
            "        8, 3, 7, 2, 0, 9, 5, 3, 3, 0, 2, 0, 9, 8, 9, 6, 4, 0, 9, 7, 9, 5, 5, 2,\n",
            "        4, 7, 9, 1, 3, 3, 8, 8, 7, 7, 7, 7, 5, 5, 1, 4, 5, 8, 6, 8, 9, 6, 7, 2,\n",
            "        1, 2, 1, 5, 7, 4, 9, 0, 6, 3, 3, 6, 4, 8, 9, 3, 3, 9, 9, 1, 7, 9, 5, 1,\n",
            "        3, 4, 9, 7, 0, 3, 2, 2, 8, 8, 7, 5, 0, 2, 9, 4, 1, 2, 5, 6, 0, 2, 2, 4,\n",
            "        1, 4, 2, 2, 1, 0, 4, 5], device='cuda:0')\n",
            "out is:  tensor([[-1.6257, -2.0308, -2.3364,  ..., -2.9668, -2.2305, -1.8990],\n",
            "        [-4.4572, -4.2136, -2.1971,  ..., -2.2401, -5.5791, -3.7232],\n",
            "        [-0.9312, -2.2272, -3.1040,  ..., -4.2419, -1.2999, -2.3102],\n",
            "        ...,\n",
            "        [-4.7132, -4.4376, -2.6332,  ..., -2.7883, -5.7267, -3.7807],\n",
            "        [-3.5589, -3.4246, -2.1542,  ..., -2.1891, -4.4661, -2.9162],\n",
            "        [-1.9412, -1.6779, -2.8334,  ..., -2.4462, -2.1450, -1.4558]],\n",
            "       device='cuda:0', grad_fn=<LogSoftmaxBackward0>) \n",
            " target is:  tensor([1, 9, 8, 1, 1, 3, 5, 4, 9, 1, 7, 6, 0, 3, 2, 4, 5, 1, 3, 0, 6, 6, 1, 2,\n",
            "        1, 9, 3, 8, 9, 4, 7, 3, 5, 2, 6, 3, 4, 2, 7, 8, 7, 5, 9, 5, 7, 1, 6, 9,\n",
            "        5, 9, 6, 8, 5, 2, 4, 0, 7, 1, 0, 8, 9, 8, 8, 6, 1, 0, 6, 1, 5, 0, 1, 6,\n",
            "        9, 5, 4, 7, 4, 3, 5, 8, 0, 9, 5, 4, 9, 5, 3, 4, 6, 1, 8, 5, 8, 6, 4, 4,\n",
            "        0, 5, 9, 9, 6, 6, 8, 5, 4, 1, 8, 4, 6, 6, 6, 2, 0, 8, 0, 6, 8, 6, 4, 3,\n",
            "        7, 4, 4, 4, 4, 3, 9, 9], device='cuda:0')\n",
            "out is:  tensor([[-1.9142, -2.6678, -1.6462,  ..., -2.0810, -2.8781, -2.9676],\n",
            "        [-3.1894, -3.5675, -1.5641,  ..., -1.9357, -4.4385, -3.6240],\n",
            "        [-1.9244, -1.6480, -3.1018,  ..., -2.6684, -1.8271, -1.3186],\n",
            "        ...,\n",
            "        [-4.0677, -3.8739, -2.5234,  ..., -2.6039, -4.9775, -3.1753],\n",
            "        [-1.3328, -1.8943, -2.8211,  ..., -3.2379, -1.4748, -1.8827],\n",
            "        [-3.6549, -3.0401, -2.6983,  ..., -2.2147, -4.1414, -2.1508]],\n",
            "       device='cuda:0', grad_fn=<LogSoftmaxBackward0>) \n",
            " target is:  tensor([2, 0, 1, 7, 4, 6, 6, 2, 9, 0, 4, 9, 9, 2, 5, 4, 6, 6, 3, 5, 7, 5, 7, 9,\n",
            "        6, 7, 0, 6, 5, 8, 4, 1, 3, 4, 7, 3, 0, 3, 1, 1, 9, 9, 6, 2, 2, 3, 0, 6,\n",
            "        8, 1, 6, 7, 5, 0, 8, 3, 0, 8, 0, 5, 3, 5, 6, 2, 9, 5, 8, 5, 2, 4, 7, 0,\n",
            "        5, 3, 2, 3, 6, 1, 6, 6, 9, 2, 0, 4, 9, 7, 4, 7, 2, 7, 2, 1, 5, 8, 0, 0,\n",
            "        7, 3, 9, 4, 1, 9, 7, 6, 7, 4, 6, 8, 6, 6, 3, 2, 6, 3, 7, 5, 6, 2, 4, 2,\n",
            "        0, 1, 5, 2, 7, 9, 0, 3], device='cuda:0')\n",
            "out is:  tensor([[-2.4351, -2.1180, -2.5568,  ..., -2.4220, -2.8565, -1.5760],\n",
            "        [-0.7217, -2.8988, -2.9807,  ..., -4.9721, -1.1892, -3.0791],\n",
            "        [-2.0546, -1.8511, -2.7418,  ..., -2.4662, -2.0719, -1.3420],\n",
            "        ...,\n",
            "        [-3.3159, -3.1393, -1.8994,  ..., -1.6868, -4.3346, -3.0116],\n",
            "        [-1.0833, -2.1469, -3.1459,  ..., -4.0865, -1.1958, -2.1157],\n",
            "        [-2.6415, -2.1336, -2.5040,  ..., -2.0259, -2.8696, -1.5203]],\n",
            "       device='cuda:0', grad_fn=<LogSoftmaxBackward0>) \n",
            " target is:  tensor([3, 0, 9, 7, 3, 1, 9, 5, 0, 0, 4, 4, 7, 2, 8, 4, 7, 9, 6, 0, 2, 0, 4, 8,\n",
            "        1, 4, 8, 6, 0, 0, 2, 5, 5, 8, 2, 1, 1, 9, 8, 0, 6, 1, 2, 9, 7, 0, 8, 7,\n",
            "        4, 6, 3, 0, 9, 2, 3, 1, 5, 7, 3, 3, 3, 1, 0, 0, 5, 5, 3, 2, 3, 6, 6, 1,\n",
            "        4, 8, 9, 1, 6, 3, 6, 2, 3, 0, 8, 0, 2, 3, 4, 3, 9, 6, 2, 4, 5, 5, 4, 9,\n",
            "        9, 5, 2, 8, 0, 7, 7, 2, 2, 5, 3, 8, 6, 7, 6, 3, 7, 7, 5, 3, 2, 1, 9, 3,\n",
            "        7, 3, 8, 1, 2, 0, 0, 6], device='cuda:0')\n",
            "out is:  tensor([[-1.7565, -1.6555, -2.9987,  ..., -3.0223, -1.7861, -1.4151],\n",
            "        [-0.8733, -2.7888, -3.3478,  ..., -4.9043, -0.9289, -2.9714],\n",
            "        [-2.0884, -2.0635, -2.5961,  ..., -2.7773, -2.4519, -1.5221],\n",
            "        ...,\n",
            "        [-1.7000, -1.7032, -2.9149,  ..., -2.9756, -1.7155, -1.4540],\n",
            "        [-3.4899, -2.8827, -2.6217,  ..., -2.1631, -3.9642, -2.0333],\n",
            "        [-2.2977, -1.7996, -2.7560,  ..., -2.1561, -2.2647, -1.2907]],\n",
            "       device='cuda:0', grad_fn=<LogSoftmaxBackward0>) \n",
            " target is:  tensor([1, 1, 3, 3, 2, 4, 9, 4, 1, 6, 1, 5, 4, 5, 4, 2, 0, 8, 6, 4, 1, 2, 6, 2,\n",
            "        9, 9, 7, 1, 7, 8, 5, 0, 2, 1, 0, 2, 0, 7, 5, 2, 9, 4, 3, 8, 9, 4, 7, 0,\n",
            "        3, 7, 5, 6, 7, 2, 0, 7, 9, 6, 9, 2, 6, 3, 8, 8, 7, 5, 9, 5, 2, 3, 0, 6,\n",
            "        1, 8, 4, 7, 8, 0, 7, 5, 5, 4, 3, 9, 2, 9, 0, 3, 4, 4, 7, 4, 1, 9, 6, 7,\n",
            "        3, 0, 9, 5, 2, 2, 5, 7, 1, 5, 7, 4, 1, 9, 8, 7, 9, 0, 3, 0, 6, 5, 0, 0,\n",
            "        8, 8, 6, 6, 9, 8, 3, 9], device='cuda:0')\n",
            "out is:  tensor([[-1.5316, -1.9564, -2.5036,  ..., -3.1238, -1.9039, -1.7180],\n",
            "        [-1.8584, -1.6921, -3.1438,  ..., -2.9919, -1.5797, -1.3099],\n",
            "        [-3.1380, -2.3052, -2.8247,  ..., -2.1027, -3.3554, -1.4385],\n",
            "        ...,\n",
            "        [-2.7773, -2.2834, -2.1051,  ..., -1.6400, -3.2913, -2.1277],\n",
            "        [-4.4196, -4.3838, -1.8216,  ..., -1.8835, -5.7171, -4.3028],\n",
            "        [-4.2812, -4.4762, -1.7929,  ..., -2.1944, -5.8578, -4.6145]],\n",
            "       device='cuda:0', grad_fn=<LogSoftmaxBackward0>) \n",
            " target is:  tensor([6, 1, 6, 3, 7, 9, 8, 2, 8, 3, 0, 9, 4, 7, 9, 3, 6, 3, 2, 0, 7, 2, 9, 3,\n",
            "        2, 4, 4, 6, 0, 7, 4, 1, 6, 9, 2, 6, 3, 6, 7, 3, 4, 4, 1, 6, 3, 6, 3, 1,\n",
            "        5, 7, 5, 9, 0, 8, 6, 8, 8, 8, 6, 0, 8, 3, 2, 2, 5, 8, 2, 3, 9, 3, 1, 9,\n",
            "        5, 4, 3, 4, 5, 6, 9, 5, 1, 4, 5, 2, 8, 2, 9, 2, 8, 5, 5, 2, 0, 1, 1, 4,\n",
            "        2, 5, 0, 0, 6, 5, 9, 6, 0, 1, 2, 3, 2, 8, 0, 5, 0, 6, 7, 4, 5, 0, 9, 9,\n",
            "        1, 9, 8, 0, 7, 4, 2, 2], device='cuda:0')\n",
            "out is:  tensor([[-4.1632, -4.7411, -1.5654,  ..., -2.3864, -5.6883, -5.4474],\n",
            "        [-3.0100, -1.9290, -2.9029,  ..., -1.8618, -2.9318, -1.1773],\n",
            "        [-0.7867, -2.7034, -2.8692,  ..., -4.6976, -1.2051, -2.8241],\n",
            "        ...,\n",
            "        [-1.0072, -2.3465, -2.6802,  ..., -4.0531, -1.4052, -2.1719],\n",
            "        [-2.4839, -1.6917, -2.9054,  ..., -2.2648, -2.3527, -1.1781],\n",
            "        [-4.8204, -4.2532, -2.8154,  ..., -2.3665, -5.7303, -3.3895]],\n",
            "       device='cuda:0', grad_fn=<LogSoftmaxBackward0>) \n",
            " target is:  tensor([4, 1, 8, 4, 1, 4, 9, 4, 8, 4, 1, 6, 6, 1, 0, 2, 4, 2, 3, 3, 4, 9, 6, 9,\n",
            "        8, 6, 3, 9, 1, 4, 7, 1, 8, 3, 1, 0, 3, 4, 9, 5, 1, 1, 2, 4, 0, 6, 4, 4,\n",
            "        4, 0, 8, 9, 9, 3, 4, 0, 4, 5, 3, 5, 2, 8, 7, 6, 9, 0, 4, 0, 1, 9, 1, 9,\n",
            "        6, 8, 8, 6, 7, 5, 2, 2, 6, 1, 5, 2, 8, 5, 7, 1, 3, 8, 3, 7, 5, 9, 3, 7,\n",
            "        4, 8, 9, 4, 5, 5, 7, 9, 6, 1, 8, 7, 5, 9, 2, 5, 8, 6, 5, 6, 2, 9, 0, 3,\n",
            "        1, 3, 0, 0, 9, 0, 1, 5], device='cuda:0')\n",
            "out is:  tensor([[-1.6567, -1.8591, -2.6758,  ..., -3.0247, -1.6179, -1.5288],\n",
            "        [-4.0518, -3.4107, -2.1710,  ..., -1.7066, -4.9200, -3.0225],\n",
            "        [-0.8366, -2.8793, -3.0655,  ..., -4.9131, -0.9744, -3.1138],\n",
            "        ...,\n",
            "        [-3.5078, -2.5186, -2.4391,  ..., -1.6187, -3.8509, -1.9112],\n",
            "        [-3.5607, -2.9781, -2.5764,  ..., -2.0314, -3.8354, -1.8879],\n",
            "        [-2.6723, -1.9176, -2.7946,  ..., -2.1048, -2.4060, -1.1282]],\n",
            "       device='cuda:0', grad_fn=<LogSoftmaxBackward0>) \n",
            " target is:  tensor([1, 2, 0, 3, 9, 9, 0, 0, 3, 2, 9, 9, 9, 5, 5, 0, 5, 7, 4, 6, 3, 7, 6, 5,\n",
            "        5, 6, 0, 8, 5, 1, 8, 9, 0, 2, 5, 1, 6, 9, 6, 6, 4, 8, 9, 9, 7, 1, 0, 3,\n",
            "        8, 9, 5, 9, 2, 8, 1, 3, 4, 0, 0, 5, 7, 8, 8, 8, 1, 1, 8, 4, 3, 9, 3, 2,\n",
            "        1, 2, 8, 6, 1, 1, 9, 9, 8, 7, 0, 9, 8, 2, 0, 1, 2, 2, 7, 2, 3, 7, 2, 4,\n",
            "        1, 6, 9, 0, 4, 3, 4, 6, 1, 5, 0, 3, 7, 3, 7, 4, 9, 5, 4, 5, 0, 7, 8, 0,\n",
            "        8, 4, 1, 6, 2, 2, 5, 9], device='cuda:0')\n",
            "out is:  tensor([[-3.3998, -2.8475, -1.8699,  ..., -1.4888, -4.0199, -2.8259],\n",
            "        [-3.5456, -3.0442, -2.4309,  ..., -2.1558, -4.1608, -2.2742],\n",
            "        [-1.2811, -2.0886, -2.9933,  ..., -3.8875, -0.9926, -2.2082],\n",
            "        ...,\n",
            "        [-4.1025, -3.8426, -2.1341,  ..., -1.9939, -4.9697, -3.2540],\n",
            "        [-2.4966, -2.1413, -2.3443,  ..., -2.4614, -2.9160, -1.7207],\n",
            "        [-1.3587, -2.0853, -2.4982,  ..., -3.4382, -1.3033, -1.9694]],\n",
            "       device='cuda:0', grad_fn=<LogSoftmaxBackward0>) \n",
            " target is:  tensor([5, 0, 8, 4, 4, 7, 7, 8, 5, 3, 3, 8, 8, 1, 7, 7, 0, 9, 7, 7, 6, 2, 6, 6,\n",
            "        4, 9, 6, 3, 1, 7, 5, 9, 6, 4, 4, 5, 3, 5, 1, 0, 4, 8, 7, 0, 7, 4, 9, 4,\n",
            "        3, 1, 6, 6, 8, 7, 1, 6, 3, 2, 3, 9, 1, 0, 6, 8, 0, 4, 1, 9, 4, 3, 3, 4,\n",
            "        8, 6, 0, 5, 0, 2, 0, 3, 3, 2, 3, 0, 2, 6, 4, 4, 8, 5, 0, 8, 3, 6, 0, 0,\n",
            "        7, 9, 8, 7, 7, 1, 1, 8, 5, 6, 2, 8, 6, 2, 5, 1, 3, 9, 8, 0, 3, 3, 4, 8,\n",
            "        4, 5, 1, 6, 8, 2, 1, 8], device='cuda:0')\n",
            "out is:  tensor([[-4.4349, -4.1046, -2.7924,  ..., -2.6145, -5.2942, -3.2528],\n",
            "        [-2.7966, -1.8348, -2.7891,  ..., -2.2118, -2.4786, -1.1690],\n",
            "        [-0.6871, -3.7738, -3.1829,  ..., -5.9212, -0.9327, -4.2578],\n",
            "        ...,\n",
            "        [-3.9978, -4.3084, -1.7072,  ..., -2.2807, -5.4816, -4.9907],\n",
            "        [-3.3695, -2.1259, -2.4256,  ..., -1.5682, -3.4329, -1.7281],\n",
            "        [-1.3747, -2.3167, -2.5786,  ..., -3.5952, -1.0871, -1.9825]],\n",
            "       device='cuda:0', grad_fn=<LogSoftmaxBackward0>) \n",
            " target is:  tensor([3, 8, 8, 3, 4, 3, 5, 1, 3, 1, 6, 8, 9, 5, 6, 1, 5, 1, 8, 7, 5, 8, 3, 6,\n",
            "        3, 1, 2, 2, 1, 2, 9, 1, 9, 6, 1, 4, 4, 9, 5, 2, 1, 3, 0, 7, 1, 7, 0, 4,\n",
            "        5, 7, 2, 7, 1, 7, 5, 0, 1, 6, 8, 4, 5, 5, 2, 2, 6, 8, 9, 1, 6, 2, 2, 6,\n",
            "        9, 6, 8, 8, 8, 1, 6, 2, 6, 2, 2, 0, 5, 1, 1, 8, 0, 3, 5, 6, 3, 1, 4, 7,\n",
            "        0, 5, 0, 7, 5, 6, 9, 3, 1, 4, 3, 0, 8, 0, 0, 8, 4, 0, 9, 8, 3, 8, 6, 7,\n",
            "        3, 9, 0, 5, 4, 4, 6, 8], device='cuda:0')\n",
            "out is:  tensor([[-3.1921, -1.7485, -2.7504,  ..., -1.9814, -2.9779, -1.3864],\n",
            "        [-3.3305, -2.7169, -1.8698,  ..., -1.7316, -4.0174, -3.0396],\n",
            "        [-3.8311, -2.8007, -2.3705,  ..., -1.7155, -4.3283, -2.3038],\n",
            "        ...,\n",
            "        [-0.9765, -3.6060, -3.4106,  ..., -5.6752, -0.6458, -3.9737],\n",
            "        [-4.3375, -3.7877, -2.2956,  ..., -1.9049, -5.3453, -3.3339],\n",
            "        [-4.7333, -4.3836, -2.9210,  ..., -2.8561, -6.0132, -3.9252]],\n",
            "       device='cuda:0', grad_fn=<LogSoftmaxBackward0>) \n",
            " target is:  tensor([9, 4, 7, 7, 6, 3, 8, 7, 6, 7, 4, 0, 0, 3, 4, 3, 4, 5, 9, 9, 8, 8, 3, 9,\n",
            "        1, 4, 8, 6, 0, 2, 0, 2, 4, 3, 2, 9, 8, 0, 7, 9, 5, 2, 4, 8, 1, 6, 0, 0,\n",
            "        3, 2, 3, 0, 9, 0, 4, 5, 8, 2, 9, 3, 5, 2, 7, 3, 1, 1, 9, 4, 5, 6, 4, 0,\n",
            "        0, 4, 7, 7, 7, 9, 7, 8, 6, 1, 1, 4, 0, 0, 8, 9, 6, 6, 3, 6, 4, 4, 1, 2,\n",
            "        2, 5, 1, 7, 7, 3, 7, 8, 1, 3, 8, 6, 0, 8, 2, 2, 6, 6, 9, 2, 2, 5, 6, 1,\n",
            "        5, 4, 5, 1, 4, 0, 3, 5], device='cuda:0')\n",
            "out is:  tensor([[-3.8430, -4.1473, -1.7840,  ..., -2.5652, -5.3691, -5.2540],\n",
            "        [-2.0033, -1.4211, -3.4646,  ..., -3.6372, -1.0483, -1.7505],\n",
            "        [-1.0166, -3.1414, -3.3753,  ..., -5.5590, -0.6748, -3.5496],\n",
            "        ...,\n",
            "        [-3.7311, -2.5101, -2.3276,  ..., -1.6657, -4.2495, -2.4239],\n",
            "        [-1.1701, -2.4387, -3.1531,  ..., -4.8429, -0.7724, -2.8305],\n",
            "        [-2.3119, -1.3117, -3.4508,  ..., -3.2057, -1.3197, -1.4276]],\n",
            "       device='cuda:0', grad_fn=<LogSoftmaxBackward0>) \n",
            " target is:  tensor([2, 0, 8, 7, 0, 4, 9, 8, 4, 3, 8, 8, 2, 2, 8, 6, 3, 3, 3, 9, 2, 9, 7, 5,\n",
            "        8, 8, 5, 9, 7, 1, 0, 4, 2, 5, 5, 4, 3, 6, 3, 9, 1, 1, 9, 4, 7, 1, 6, 5,\n",
            "        3, 3, 0, 8, 4, 2, 7, 8, 4, 5, 2, 8, 5, 5, 9, 9, 9, 4, 0, 5, 6, 5, 0, 9,\n",
            "        7, 1, 9, 6, 4, 4, 5, 8, 0, 7, 2, 3, 9, 0, 3, 1, 3, 7, 5, 7, 8, 0, 8, 7,\n",
            "        6, 5, 7, 6, 4, 5, 0, 8, 5, 0, 1, 4, 9, 4, 3, 0, 7, 9, 4, 3, 2, 9, 8, 1,\n",
            "        1, 6, 1, 9, 9, 6, 8, 9], device='cuda:0')\n"
          ]
        },
        {
          "output_type": "error",
          "ename": "KeyboardInterrupt",
          "evalue": "",
          "traceback": [
            "\u001b[0;31m---------------------------------------------------------------------------\u001b[0m",
            "\u001b[0;31mKeyboardInterrupt\u001b[0m                         Traceback (most recent call last)",
            "\u001b[0;32m<ipython-input-24-58313d929781>\u001b[0m in \u001b[0;36m<cell line: 2>\u001b[0;34m()\u001b[0m\n\u001b[1;32m      1\u001b[0m \u001b[0minitial\u001b[0m \u001b[0;34m=\u001b[0m \u001b[0mtime\u001b[0m\u001b[0;34m.\u001b[0m\u001b[0mtime\u001b[0m\u001b[0;34m(\u001b[0m\u001b[0;34m)\u001b[0m\u001b[0;34m\u001b[0m\u001b[0;34m\u001b[0m\u001b[0m\n\u001b[0;32m----> 2\u001b[0;31m \u001b[0mstep_reward\u001b[0m\u001b[0;34m,\u001b[0m \u001b[0mselected_patch\u001b[0m \u001b[0;34m=\u001b[0m \u001b[0mmodel\u001b[0m\u001b[0;34m.\u001b[0m\u001b[0mtrain_test\u001b[0m\u001b[0;34m(\u001b[0m\u001b[0;34m)\u001b[0m\u001b[0;34m\u001b[0m\u001b[0;34m\u001b[0m\u001b[0m\n\u001b[0m\u001b[1;32m      3\u001b[0m \u001b[0mprint\u001b[0m\u001b[0;34m(\u001b[0m\u001b[0;34mf'Total Time: {time.time()-initial}'\u001b[0m\u001b[0;34m)\u001b[0m\u001b[0;34m\u001b[0m\u001b[0;34m\u001b[0m\u001b[0m\n",
            "\u001b[0;32m<ipython-input-17-20788ebba49c>\u001b[0m in \u001b[0;36mtrain_test\u001b[0;34m(self)\u001b[0m\n\u001b[1;32m     66\u001b[0m               \u001b[0;31m# alleno\u001b[0m\u001b[0;34m\u001b[0m\u001b[0;34m\u001b[0m\u001b[0m\n\u001b[1;32m     67\u001b[0m               \u001b[0;32mif\u001b[0m \u001b[0mi\u001b[0m \u001b[0;34m%\u001b[0m \u001b[0mself\u001b[0m\u001b[0;34m.\u001b[0m\u001b[0mget_reward_every\u001b[0m \u001b[0;34m!=\u001b[0m \u001b[0;36m0\u001b[0m\u001b[0;34m:\u001b[0m\u001b[0;34m\u001b[0m\u001b[0;34m\u001b[0m\u001b[0m\n\u001b[0;32m---> 68\u001b[0;31m                 \u001b[0mself\u001b[0m\u001b[0;34m.\u001b[0m\u001b[0menv\u001b[0m\u001b[0;34m.\u001b[0m\u001b[0mstep_train\u001b[0m\u001b[0;34m(\u001b[0m\u001b[0mpatch_list\u001b[0m\u001b[0;34m,\u001b[0m \u001b[0mdata\u001b[0m\u001b[0;34m,\u001b[0m \u001b[0mtarget\u001b[0m\u001b[0;34m)\u001b[0m\u001b[0;34m\u001b[0m\u001b[0;34m\u001b[0m\u001b[0m\n\u001b[0m\u001b[1;32m     69\u001b[0m \u001b[0;34m\u001b[0m\u001b[0m\n\u001b[1;32m     70\u001b[0m               \u001b[0;31m# alleno e testo il ViT\u001b[0m\u001b[0;34m\u001b[0m\u001b[0;34m\u001b[0m\u001b[0m\n",
            "\u001b[0;32m<ipython-input-13-d611bd547b31>\u001b[0m in \u001b[0;36mstep_train\u001b[0;34m(self, action, train_data, train_target)\u001b[0m\n\u001b[1;32m     35\u001b[0m         \u001b[0mself\u001b[0m\u001b[0;34m.\u001b[0m\u001b[0mViTnet\u001b[0m\u001b[0;34m.\u001b[0m\u001b[0mset_patches\u001b[0m\u001b[0;34m(\u001b[0m\u001b[0maction\u001b[0m\u001b[0;34m)\u001b[0m\u001b[0;34m\u001b[0m\u001b[0;34m\u001b[0m\u001b[0m\n\u001b[1;32m     36\u001b[0m \u001b[0;34m\u001b[0m\u001b[0m\n\u001b[0;32m---> 37\u001b[0;31m         \u001b[0mtrain_iter_agent\u001b[0m\u001b[0;34m(\u001b[0m\u001b[0mself\u001b[0m\u001b[0;34m.\u001b[0m\u001b[0mViTnet\u001b[0m\u001b[0;34m,\u001b[0m \u001b[0mself\u001b[0m\u001b[0;34m.\u001b[0m\u001b[0moptimizer\u001b[0m\u001b[0;34m,\u001b[0m \u001b[0mtrain_data\u001b[0m\u001b[0;34m,\u001b[0m \u001b[0mtrain_target\u001b[0m\u001b[0;34m)\u001b[0m\u001b[0;34m\u001b[0m\u001b[0;34m\u001b[0m\u001b[0m\n\u001b[0m\u001b[1;32m     38\u001b[0m \u001b[0;34m\u001b[0m\u001b[0m\n\u001b[1;32m     39\u001b[0m \u001b[0;34m\u001b[0m\u001b[0m\n",
            "\u001b[0;32m<ipython-input-23-207b7e8d739d>\u001b[0m in \u001b[0;36mtrain_iter_agent\u001b[0;34m(model, optimizer, data, target)\u001b[0m\n\u001b[1;32m      9\u001b[0m     \u001b[0mloss\u001b[0m \u001b[0;34m=\u001b[0m \u001b[0mfunctional\u001b[0m\u001b[0;34m.\u001b[0m\u001b[0mnll_loss\u001b[0m\u001b[0;34m(\u001b[0m\u001b[0mout\u001b[0m\u001b[0;34m,\u001b[0m \u001b[0mtarget\u001b[0m\u001b[0;34m)\u001b[0m\u001b[0;34m\u001b[0m\u001b[0;34m\u001b[0m\u001b[0m\n\u001b[1;32m     10\u001b[0m     \u001b[0mloss\u001b[0m\u001b[0;34m.\u001b[0m\u001b[0mbackward\u001b[0m\u001b[0;34m(\u001b[0m\u001b[0;34m)\u001b[0m\u001b[0;34m\u001b[0m\u001b[0;34m\u001b[0m\u001b[0m\n\u001b[0;32m---> 11\u001b[0;31m     \u001b[0moptimizer\u001b[0m\u001b[0;34m.\u001b[0m\u001b[0mstep\u001b[0m\u001b[0;34m(\u001b[0m\u001b[0;34m)\u001b[0m\u001b[0;34m\u001b[0m\u001b[0;34m\u001b[0m\u001b[0m\n\u001b[0m\u001b[1;32m     12\u001b[0m \u001b[0;34m\u001b[0m\u001b[0m\n\u001b[1;32m     13\u001b[0m     \u001b[0miteration_time\u001b[0m \u001b[0;34m=\u001b[0m \u001b[0mtime\u001b[0m\u001b[0;34m.\u001b[0m\u001b[0mtime\u001b[0m\u001b[0;34m(\u001b[0m\u001b[0;34m)\u001b[0m \u001b[0;34m-\u001b[0m \u001b[0mstart_time\u001b[0m\u001b[0;34m\u001b[0m\u001b[0;34m\u001b[0m\u001b[0m\n",
            "\u001b[0;32m/usr/local/lib/python3.10/dist-packages/torch/optim/optimizer.py\u001b[0m in \u001b[0;36mwrapper\u001b[0;34m(*args, **kwargs)\u001b[0m\n\u001b[1;32m    485\u001b[0m                             )\n\u001b[1;32m    486\u001b[0m \u001b[0;34m\u001b[0m\u001b[0m\n\u001b[0;32m--> 487\u001b[0;31m                 \u001b[0mout\u001b[0m \u001b[0;34m=\u001b[0m \u001b[0mfunc\u001b[0m\u001b[0;34m(\u001b[0m\u001b[0;34m*\u001b[0m\u001b[0margs\u001b[0m\u001b[0;34m,\u001b[0m \u001b[0;34m**\u001b[0m\u001b[0mkwargs\u001b[0m\u001b[0;34m)\u001b[0m\u001b[0;34m\u001b[0m\u001b[0;34m\u001b[0m\u001b[0m\n\u001b[0m\u001b[1;32m    488\u001b[0m                 \u001b[0mself\u001b[0m\u001b[0;34m.\u001b[0m\u001b[0m_optimizer_step_code\u001b[0m\u001b[0;34m(\u001b[0m\u001b[0;34m)\u001b[0m\u001b[0;34m\u001b[0m\u001b[0;34m\u001b[0m\u001b[0m\n\u001b[1;32m    489\u001b[0m \u001b[0;34m\u001b[0m\u001b[0m\n",
            "\u001b[0;32m/usr/local/lib/python3.10/dist-packages/torch/optim/optimizer.py\u001b[0m in \u001b[0;36m_use_grad\u001b[0;34m(self, *args, **kwargs)\u001b[0m\n\u001b[1;32m     89\u001b[0m             \u001b[0mtorch\u001b[0m\u001b[0;34m.\u001b[0m\u001b[0mset_grad_enabled\u001b[0m\u001b[0;34m(\u001b[0m\u001b[0mself\u001b[0m\u001b[0;34m.\u001b[0m\u001b[0mdefaults\u001b[0m\u001b[0;34m[\u001b[0m\u001b[0;34m\"differentiable\"\u001b[0m\u001b[0;34m]\u001b[0m\u001b[0;34m)\u001b[0m\u001b[0;34m\u001b[0m\u001b[0;34m\u001b[0m\u001b[0m\n\u001b[1;32m     90\u001b[0m             \u001b[0mtorch\u001b[0m\u001b[0;34m.\u001b[0m\u001b[0m_dynamo\u001b[0m\u001b[0;34m.\u001b[0m\u001b[0mgraph_break\u001b[0m\u001b[0;34m(\u001b[0m\u001b[0;34m)\u001b[0m\u001b[0;34m\u001b[0m\u001b[0;34m\u001b[0m\u001b[0m\n\u001b[0;32m---> 91\u001b[0;31m             \u001b[0mret\u001b[0m \u001b[0;34m=\u001b[0m \u001b[0mfunc\u001b[0m\u001b[0;34m(\u001b[0m\u001b[0mself\u001b[0m\u001b[0;34m,\u001b[0m \u001b[0;34m*\u001b[0m\u001b[0margs\u001b[0m\u001b[0;34m,\u001b[0m \u001b[0;34m**\u001b[0m\u001b[0mkwargs\u001b[0m\u001b[0;34m)\u001b[0m\u001b[0;34m\u001b[0m\u001b[0;34m\u001b[0m\u001b[0m\n\u001b[0m\u001b[1;32m     92\u001b[0m         \u001b[0;32mfinally\u001b[0m\u001b[0;34m:\u001b[0m\u001b[0;34m\u001b[0m\u001b[0;34m\u001b[0m\u001b[0m\n\u001b[1;32m     93\u001b[0m             \u001b[0mtorch\u001b[0m\u001b[0;34m.\u001b[0m\u001b[0m_dynamo\u001b[0m\u001b[0;34m.\u001b[0m\u001b[0mgraph_break\u001b[0m\u001b[0;34m(\u001b[0m\u001b[0;34m)\u001b[0m\u001b[0;34m\u001b[0m\u001b[0;34m\u001b[0m\u001b[0m\n",
            "\u001b[0;32m/usr/local/lib/python3.10/dist-packages/torch/optim/adam.py\u001b[0m in \u001b[0;36mstep\u001b[0;34m(self, closure)\u001b[0m\n\u001b[1;32m    221\u001b[0m             )\n\u001b[1;32m    222\u001b[0m \u001b[0;34m\u001b[0m\u001b[0m\n\u001b[0;32m--> 223\u001b[0;31m             adam(\n\u001b[0m\u001b[1;32m    224\u001b[0m                 \u001b[0mparams_with_grad\u001b[0m\u001b[0;34m,\u001b[0m\u001b[0;34m\u001b[0m\u001b[0;34m\u001b[0m\u001b[0m\n\u001b[1;32m    225\u001b[0m                 \u001b[0mgrads\u001b[0m\u001b[0;34m,\u001b[0m\u001b[0;34m\u001b[0m\u001b[0;34m\u001b[0m\u001b[0m\n",
            "\u001b[0;32m/usr/local/lib/python3.10/dist-packages/torch/optim/optimizer.py\u001b[0m in \u001b[0;36mmaybe_fallback\u001b[0;34m(*args, **kwargs)\u001b[0m\n\u001b[1;32m    152\u001b[0m                 \u001b[0;32mreturn\u001b[0m \u001b[0mdisabled_func\u001b[0m\u001b[0;34m(\u001b[0m\u001b[0;34m*\u001b[0m\u001b[0margs\u001b[0m\u001b[0;34m,\u001b[0m \u001b[0;34m**\u001b[0m\u001b[0mkwargs\u001b[0m\u001b[0;34m)\u001b[0m\u001b[0;34m\u001b[0m\u001b[0;34m\u001b[0m\u001b[0m\n\u001b[1;32m    153\u001b[0m             \u001b[0;32melse\u001b[0m\u001b[0;34m:\u001b[0m\u001b[0;34m\u001b[0m\u001b[0;34m\u001b[0m\u001b[0m\n\u001b[0;32m--> 154\u001b[0;31m                 \u001b[0;32mreturn\u001b[0m \u001b[0mfunc\u001b[0m\u001b[0;34m(\u001b[0m\u001b[0;34m*\u001b[0m\u001b[0margs\u001b[0m\u001b[0;34m,\u001b[0m \u001b[0;34m**\u001b[0m\u001b[0mkwargs\u001b[0m\u001b[0;34m)\u001b[0m\u001b[0;34m\u001b[0m\u001b[0;34m\u001b[0m\u001b[0m\n\u001b[0m\u001b[1;32m    155\u001b[0m \u001b[0;34m\u001b[0m\u001b[0m\n\u001b[1;32m    156\u001b[0m         \u001b[0;32mreturn\u001b[0m \u001b[0mmaybe_fallback\u001b[0m\u001b[0;34m\u001b[0m\u001b[0;34m\u001b[0m\u001b[0m\n",
            "\u001b[0;32m/usr/local/lib/python3.10/dist-packages/torch/optim/adam.py\u001b[0m in \u001b[0;36madam\u001b[0;34m(params, grads, exp_avgs, exp_avg_sqs, max_exp_avg_sqs, state_steps, foreach, capturable, differentiable, fused, grad_scale, found_inf, has_complex, amsgrad, beta1, beta2, lr, weight_decay, eps, maximize)\u001b[0m\n\u001b[1;32m    782\u001b[0m         \u001b[0mfunc\u001b[0m \u001b[0;34m=\u001b[0m \u001b[0m_single_tensor_adam\u001b[0m\u001b[0;34m\u001b[0m\u001b[0;34m\u001b[0m\u001b[0m\n\u001b[1;32m    783\u001b[0m \u001b[0;34m\u001b[0m\u001b[0m\n\u001b[0;32m--> 784\u001b[0;31m     func(\n\u001b[0m\u001b[1;32m    785\u001b[0m         \u001b[0mparams\u001b[0m\u001b[0;34m,\u001b[0m\u001b[0;34m\u001b[0m\u001b[0;34m\u001b[0m\u001b[0m\n\u001b[1;32m    786\u001b[0m         \u001b[0mgrads\u001b[0m\u001b[0;34m,\u001b[0m\u001b[0;34m\u001b[0m\u001b[0;34m\u001b[0m\u001b[0m\n",
            "\u001b[0;32m/usr/local/lib/python3.10/dist-packages/torch/optim/adam.py\u001b[0m in \u001b[0;36m_multi_tensor_adam\u001b[0;34m(params, grads, exp_avgs, exp_avg_sqs, max_exp_avg_sqs, state_steps, grad_scale, found_inf, amsgrad, has_complex, beta1, beta2, lr, weight_decay, eps, maximize, capturable, differentiable)\u001b[0m\n\u001b[1;32m    593\u001b[0m                 \u001b[0;36m1\u001b[0m \u001b[0;34m-\u001b[0m \u001b[0mbeta1\u001b[0m \u001b[0;34m**\u001b[0m \u001b[0m_get_value\u001b[0m\u001b[0;34m(\u001b[0m\u001b[0mstep\u001b[0m\u001b[0;34m)\u001b[0m \u001b[0;32mfor\u001b[0m \u001b[0mstep\u001b[0m \u001b[0;32min\u001b[0m \u001b[0mdevice_state_steps\u001b[0m\u001b[0;34m\u001b[0m\u001b[0;34m\u001b[0m\u001b[0m\n\u001b[1;32m    594\u001b[0m             ]\n\u001b[0;32m--> 595\u001b[0;31m             bias_correction2 = [\n\u001b[0m\u001b[1;32m    596\u001b[0m                 \u001b[0;36m1\u001b[0m \u001b[0;34m-\u001b[0m \u001b[0mbeta2\u001b[0m \u001b[0;34m**\u001b[0m \u001b[0m_get_value\u001b[0m\u001b[0;34m(\u001b[0m\u001b[0mstep\u001b[0m\u001b[0;34m)\u001b[0m \u001b[0;32mfor\u001b[0m \u001b[0mstep\u001b[0m \u001b[0;32min\u001b[0m \u001b[0mdevice_state_steps\u001b[0m\u001b[0;34m\u001b[0m\u001b[0;34m\u001b[0m\u001b[0m\n\u001b[1;32m    597\u001b[0m             ]\n",
            "\u001b[0;32m/usr/local/lib/python3.10/dist-packages/torch/optim/adam.py\u001b[0m in \u001b[0;36m<listcomp>\u001b[0;34m(.0)\u001b[0m\n\u001b[1;32m    594\u001b[0m             ]\n\u001b[1;32m    595\u001b[0m             bias_correction2 = [\n\u001b[0;32m--> 596\u001b[0;31m                 \u001b[0;36m1\u001b[0m \u001b[0;34m-\u001b[0m \u001b[0mbeta2\u001b[0m \u001b[0;34m**\u001b[0m \u001b[0m_get_value\u001b[0m\u001b[0;34m(\u001b[0m\u001b[0mstep\u001b[0m\u001b[0;34m)\u001b[0m \u001b[0;32mfor\u001b[0m \u001b[0mstep\u001b[0m \u001b[0;32min\u001b[0m \u001b[0mdevice_state_steps\u001b[0m\u001b[0;34m\u001b[0m\u001b[0;34m\u001b[0m\u001b[0m\n\u001b[0m\u001b[1;32m    597\u001b[0m             ]\n\u001b[1;32m    598\u001b[0m \u001b[0;34m\u001b[0m\u001b[0m\n",
            "\u001b[0;32m/usr/local/lib/python3.10/dist-packages/torch/optim/optimizer.py\u001b[0m in \u001b[0;36m_get_value\u001b[0;34m(x)\u001b[0m\n\u001b[1;32m    101\u001b[0m \u001b[0;32mdef\u001b[0m \u001b[0m_get_value\u001b[0m\u001b[0;34m(\u001b[0m\u001b[0mx\u001b[0m\u001b[0;34m)\u001b[0m\u001b[0;34m:\u001b[0m\u001b[0;34m\u001b[0m\u001b[0;34m\u001b[0m\u001b[0m\n\u001b[1;32m    102\u001b[0m     \u001b[0;31m# item is significantly faster than a cpu tensor in eager mode\u001b[0m\u001b[0;34m\u001b[0m\u001b[0;34m\u001b[0m\u001b[0m\n\u001b[0;32m--> 103\u001b[0;31m     \u001b[0;32mif\u001b[0m \u001b[0;32mnot\u001b[0m \u001b[0mtorch\u001b[0m\u001b[0;34m.\u001b[0m\u001b[0mjit\u001b[0m\u001b[0;34m.\u001b[0m\u001b[0mis_scripting\u001b[0m\u001b[0;34m(\u001b[0m\u001b[0;34m)\u001b[0m \u001b[0;32mand\u001b[0m \u001b[0mis_compiling\u001b[0m\u001b[0;34m(\u001b[0m\u001b[0;34m)\u001b[0m\u001b[0;34m:\u001b[0m\u001b[0;34m\u001b[0m\u001b[0;34m\u001b[0m\u001b[0m\n\u001b[0m\u001b[1;32m    104\u001b[0m         \u001b[0;32mreturn\u001b[0m \u001b[0mx\u001b[0m\u001b[0;34m\u001b[0m\u001b[0;34m\u001b[0m\u001b[0m\n\u001b[1;32m    105\u001b[0m     \u001b[0;32melse\u001b[0m\u001b[0;34m:\u001b[0m\u001b[0;34m\u001b[0m\u001b[0;34m\u001b[0m\u001b[0m\n",
            "\u001b[0;32m/usr/local/lib/python3.10/dist-packages/torch/_utils.py\u001b[0m in \u001b[0;36mis_compiling\u001b[0;34m()\u001b[0m\n\u001b[1;32m    871\u001b[0m     \u001b[0mTODO\u001b[0m\u001b[0;34m(\u001b[0m\u001b[0mkhabinov\u001b[0m\u001b[0;34m)\u001b[0m\u001b[0;34m:\u001b[0m \u001b[0mwe\u001b[0m \u001b[0mshould\u001b[0m \u001b[0mdeprecate\u001b[0m \u001b[0mthis\u001b[0m \u001b[0mfunction\u001b[0m \u001b[0;32mand\u001b[0m \u001b[0muse\u001b[0m \u001b[0mtorch\u001b[0m\u001b[0;34m.\u001b[0m\u001b[0mcompiler\u001b[0m\u001b[0;34m.\u001b[0m\u001b[0mis_compiling\u001b[0m\u001b[0;34m(\u001b[0m\u001b[0;34m)\u001b[0m\u001b[0;34m.\u001b[0m\u001b[0;34m\u001b[0m\u001b[0;34m\u001b[0m\u001b[0m\n\u001b[1;32m    872\u001b[0m     \"\"\"\n\u001b[0;32m--> 873\u001b[0;31m     \u001b[0;32mreturn\u001b[0m \u001b[0mtorch\u001b[0m\u001b[0;34m.\u001b[0m\u001b[0mcompiler\u001b[0m\u001b[0;34m.\u001b[0m\u001b[0mis_compiling\u001b[0m\u001b[0;34m(\u001b[0m\u001b[0;34m)\u001b[0m\u001b[0;34m\u001b[0m\u001b[0;34m\u001b[0m\u001b[0m\n\u001b[0m\u001b[1;32m    874\u001b[0m \u001b[0;34m\u001b[0m\u001b[0m\n\u001b[1;32m    875\u001b[0m \u001b[0;34m\u001b[0m\u001b[0m\n",
            "\u001b[0;32m/usr/local/lib/python3.10/dist-packages/torch/compiler/__init__.py\u001b[0m in \u001b[0;36mis_compiling\u001b[0;34m()\u001b[0m\n\u001b[1;32m    306\u001b[0m         \u001b[0;34m>>\u001b[0m\u001b[0;34m>\u001b[0m     \u001b[0;31m# ...rest of the function...\u001b[0m\u001b[0;34m\u001b[0m\u001b[0;34m\u001b[0m\u001b[0m\n\u001b[1;32m    307\u001b[0m     \"\"\"\n\u001b[0;32m--> 308\u001b[0;31m     \u001b[0;32mif\u001b[0m \u001b[0mtorch\u001b[0m\u001b[0;34m.\u001b[0m\u001b[0mjit\u001b[0m\u001b[0;34m.\u001b[0m\u001b[0mis_scripting\u001b[0m\u001b[0;34m(\u001b[0m\u001b[0;34m)\u001b[0m\u001b[0;34m:\u001b[0m\u001b[0;34m\u001b[0m\u001b[0;34m\u001b[0m\u001b[0m\n\u001b[0m\u001b[1;32m    309\u001b[0m         \u001b[0;32mreturn\u001b[0m \u001b[0;32mFalse\u001b[0m\u001b[0;34m\u001b[0m\u001b[0;34m\u001b[0m\u001b[0m\n\u001b[1;32m    310\u001b[0m     \u001b[0;32melse\u001b[0m\u001b[0;34m:\u001b[0m\u001b[0;34m\u001b[0m\u001b[0;34m\u001b[0m\u001b[0m\n",
            "\u001b[0;32m/usr/local/lib/python3.10/dist-packages/torch/_jit_internal.py\u001b[0m in \u001b[0;36mis_scripting\u001b[0;34m()\u001b[0m\n\u001b[1;32m    101\u001b[0m \u001b[0;34m\u001b[0m\u001b[0m\n\u001b[1;32m    102\u001b[0m \u001b[0;34m\u001b[0m\u001b[0m\n\u001b[0;32m--> 103\u001b[0;31m \u001b[0;32mdef\u001b[0m \u001b[0mis_scripting\u001b[0m\u001b[0;34m(\u001b[0m\u001b[0;34m)\u001b[0m \u001b[0;34m->\u001b[0m \u001b[0mbool\u001b[0m\u001b[0;34m:\u001b[0m\u001b[0;34m\u001b[0m\u001b[0;34m\u001b[0m\u001b[0m\n\u001b[0m\u001b[1;32m    104\u001b[0m     r\"\"\"\n\u001b[1;32m    105\u001b[0m     \u001b[0mFunction\u001b[0m \u001b[0mthat\u001b[0m \u001b[0mreturns\u001b[0m \u001b[0;32mTrue\u001b[0m \u001b[0mwhen\u001b[0m \u001b[0;32min\u001b[0m \u001b[0mcompilation\u001b[0m \u001b[0;32mand\u001b[0m \u001b[0;32mFalse\u001b[0m \u001b[0motherwise\u001b[0m\u001b[0;34m.\u001b[0m \u001b[0mThis\u001b[0m\u001b[0;34m\u001b[0m\u001b[0;34m\u001b[0m\u001b[0m\n",
            "\u001b[0;31mKeyboardInterrupt\u001b[0m: "
          ]
        }
      ],
      "source": [
        "initial = time.time()\n",
        "step_reward, selected_patch = model.train_test()\n",
        "print(f'Total Time: {time.time()-initial}')"
      ]
    },
    {
      "cell_type": "markdown",
      "metadata": {
        "id": "nFrUrs52AXj2"
      },
      "source": [
        "<h3> Train and Validation Informations"
      ]
    },
    {
      "cell_type": "code",
      "execution_count": null,
      "metadata": {
        "id": "UgD0RgDZPBIV"
      },
      "outputs": [],
      "source": [
        "results_train = model.train_info()\n",
        "train_loss = results_train['train_loss']\n",
        "train_time = results_train['train_time']"
      ]
    },
    {
      "cell_type": "code",
      "execution_count": null,
      "metadata": {
        "id": "PkaW5esyAWin"
      },
      "outputs": [],
      "source": [
        "results_validation = model.validation_info()\n",
        "validation_loss = results_validation['validation_loss']\n",
        "validation_acc = results_validation['validation_acc']"
      ]
    },
    {
      "cell_type": "markdown",
      "metadata": {
        "id": "hs_EI4dyQVbn"
      },
      "source": [
        "<h3> Saving Results in CSV format\n"
      ]
    },
    {
      "cell_type": "code",
      "execution_count": null,
      "metadata": {
        "id": "v2_mduauQVbn"
      },
      "outputs": [],
      "source": [
        "df = pd.DataFrame(results_train)\n",
        "\n",
        "df.to_csv(f'{results_save_path_agent}{dataset_name}_train.csv', index=False)"
      ]
    },
    {
      "cell_type": "code",
      "execution_count": null,
      "metadata": {
        "id": "UaCe4CUbAqs0"
      },
      "outputs": [],
      "source": [
        "df = pd.DataFrame(results_validation)\n",
        "\n",
        "df.to_csv(f'{results_save_path_agent}{dataset_name}_validation.csv', index=False)"
      ]
    },
    {
      "cell_type": "markdown",
      "source": [
        "### Plot of Results"
      ],
      "metadata": {
        "id": "LRuW0NCbi57h"
      }
    },
    {
      "cell_type": "markdown",
      "metadata": {
        "id": "PyzpwMapQVbo"
      },
      "source": [
        "<h3> Train Loss during iterations"
      ]
    },
    {
      "cell_type": "code",
      "execution_count": null,
      "metadata": {
        "colab": {
          "base_uri": "https://localhost:8080/"
        },
        "id": "9wQo9_t_QVbo",
        "outputId": "c72ccde3-e5c6-436d-b270-a25183cffdb2"
      },
      "outputs": [
        {
          "name": "stderr",
          "output_type": "stream",
          "text": [
            "/usr/local/lib/python3.10/dist-packages/ipykernel/ipkernel.py:283: DeprecationWarning: `should_run_async` will not call `transform_cell` automatically in the future. Please pass the result to `transformed_cell` argument and any exception that happen during thetransform in `preprocessing_exc_tuple` in IPython 7.17 and above.\n",
            "  and should_run_async(code)\n"
          ]
        },
        {
          "data": {
            "image/png": "[encoded data removed]",
            "text/plain": [
              "<Figure size 640x480 with 1 Axes>"
            ]
          },
          "metadata": {},
          "output_type": "display_data"
        }
      ],
      "source": [
        "plt.plot(range(len(train_loss)), train_loss, label='Train Loss')\n",
        "\n",
        "plt.legend()\n",
        "plt.title('Loss over time')\n",
        "\n",
        "plt.show()"
      ]
    },
    {
      "cell_type": "markdown",
      "source": [
        "<h3> Validation Loss during epochs"
      ],
      "metadata": {
        "id": "LauYoQB1i_Rn"
      }
    },
    {
      "cell_type": "code",
      "execution_count": null,
      "metadata": {
        "colab": {
          "base_uri": "https://localhost:8080/"
        },
        "id": "C2SINTgRBXoP",
        "outputId": "5a90d13c-d86a-4874-e72d-5d8d23111dab"
      },
      "outputs": [
        {
          "data": {
            "image/png": "[encoded data removed]",
            "text/plain": [
              "<Figure size 640x480 with 1 Axes>"
            ]
          },
          "metadata": {},
          "output_type": "display_data"
        }
      ],
      "source": [
        "plt.plot(range(len(validation_loss)), validation_loss, label='Validation Loss')\n",
        "\n",
        "plt.legend()\n",
        "plt.title('Loss over time')\n",
        "\n",
        "plt.show()"
      ]
    },
    {
      "cell_type": "markdown",
      "metadata": {
        "id": "XidgR27RQVbo"
      },
      "source": [
        "<h3> Validation Accuracy during epochs"
      ]
    },
    {
      "cell_type": "code",
      "execution_count": null,
      "metadata": {
        "colab": {
          "base_uri": "https://localhost:8080/"
        },
        "id": "SU4iIA1hQVbp",
        "outputId": "5fca4589-89c0-4fc4-e4a2-e2fa284baefa"
      },
      "outputs": [
        {
          "data": {
            "image/png": "[encoded data removed]",
            "text/plain": [
              "<Figure size 640x480 with 1 Axes>"
            ]
          },
          "metadata": {},
          "output_type": "display_data"
        }
      ],
      "source": [
        "x = range(len(validation_acc))\n",
        "y = validation_acc\n",
        "\n",
        "plt.plot(x, y, label='Validation Accuracy')\n",
        "\n",
        "plt.legend()\n",
        "plt.title('Accuracy over time')\n",
        "\n",
        "plt.show()"
      ]
    },
    {
      "cell_type": "code",
      "execution_count": null,
      "metadata": {
        "colab": {
          "base_uri": "https://localhost:8080/"
        },
        "id": "ISnRZwlzjtmK",
        "outputId": "ee7a982a-fff5-4883-ab43-17538b061ad0"
      },
      "outputs": [
        {
          "data": {
            "text/plain": [
              "[39.20000076293945,\n",
              " 46.47368240356445,\n",
              " 49.69473648071289,\n",
              " 51.78947448730469,\n",
              " 52.55789566040039,\n",
              " 54.09473419189453,\n",
              " 54.7684211730957,\n",
              " 55.294734954833984,\n",
              " 56.842105865478516,\n",
              " 57.30526351928711,\n",
              " 58.0,\n",
              " 59.17894744873047,\n",
              " 58.9052619934082,\n",
              " 59.78947448730469,\n",
              " 60.30526351928711,\n",
              " 60.32631301879883,\n",
              " 61.38947296142578,\n",
              " 62.47368240356445,\n",
              " 62.43157958984375,\n",
              " 63.842105865478516,\n",
              " 63.031578063964844,\n",
              " 62.421051025390625,\n",
              " 64.273681640625,\n",
              " 65.34736633300781,\n",
              " 65.68421173095703,\n",
              " 65.03157806396484,\n",
              " 66.43157958984375,\n",
              " 66.50526428222656,\n",
              " 66.66315460205078,\n",
              " 67.44210052490234,\n",
              " 67.65263366699219,\n",
              " 68.54737091064453,\n",
              " 67.58946990966797,\n",
              " 68.65263366699219,\n",
              " 68.69473266601562,\n",
              " 70.10526275634766,\n",
              " 69.47368621826172,\n",
              " 69.23157501220703,\n",
              " 70.16841888427734,\n",
              " 70.55789184570312,\n",
              " 70.7368392944336,\n",
              " 71.70526123046875,\n",
              " 71.63157653808594,\n",
              " 72.35789489746094,\n",
              " 72.68421173095703,\n",
              " 71.90525817871094,\n",
              " 72.7368392944336,\n",
              " 73.4000015258789,\n",
              " 73.3263168334961,\n",
              " 74.21052551269531,\n",
              " 74.35789489746094,\n",
              " 74.25263214111328,\n",
              " 75.06315612792969,\n",
              " 74.25263214111328,\n",
              " 75.17894744873047,\n",
              " 74.84210205078125,\n",
              " 75.22105407714844,\n",
              " 75.12631225585938,\n",
              " 76.04210662841797,\n",
              " 76.31578826904297,\n",
              " 76.14736938476562,\n",
              " 74.90525817871094,\n",
              " 76.12631225585938,\n",
              " 76.50526428222656,\n",
              " 76.63157653808594,\n",
              " 76.36842346191406,\n",
              " 77.02104949951172,\n",
              " 77.34736633300781,\n",
              " 76.55789184570312,\n",
              " 77.89473724365234,\n",
              " 78.11579132080078,\n",
              " 78.0,\n",
              " 77.98947143554688,\n",
              " 77.63157653808594,\n",
              " 78.12631225585938,\n",
              " 77.84210205078125,\n",
              " 77.96842193603516,\n",
              " 78.52631378173828,\n",
              " 78.64210510253906,\n",
              " 78.68421173095703,\n",
              " 78.37894439697266,\n",
              " 78.97894287109375,\n",
              " 77.96842193603516,\n",
              " 78.7368392944336,\n",
              " 78.74736785888672,\n",
              " 78.8736801147461,\n",
              " 79.273681640625,\n",
              " 79.1368408203125,\n",
              " 79.57894897460938,\n",
              " 78.64210510253906,\n",
              " 79.28421020507812,\n",
              " 78.90525817871094,\n",
              " 79.76841735839844,\n",
              " 79.77894592285156,\n",
              " 79.16841888427734,\n",
              " 79.0842056274414,\n",
              " 79.96842193603516,\n",
              " 79.72631072998047,\n",
              " 79.90525817871094,\n",
              " 79.38947296142578]"
            ]
          },
          "execution_count": 36,
          "metadata": {},
          "output_type": "execute_result"
        }
      ],
      "source": [
        "validation_acc"
      ]
    },
    {
      "cell_type": "markdown",
      "metadata": {
        "id": "bJ6icTgAp8Vb"
      },
      "source": [
        "## Evaluation for different Heuristics"
      ]
    },
    {
      "cell_type": "code",
      "execution_count": null,
      "metadata": {
        "id": "xmu5b4veuD5r"
      },
      "outputs": [],
      "source": [
        "def evaluate_agent(agent, data_load, device, mode = False):\n",
        "\n",
        "    agent.eval()\n",
        "\n",
        "    elements = 0\n",
        "    csamp = 0\n",
        "    tloss = 0\n",
        "\n",
        "    with torch.no_grad():\n",
        "        for data, target in data_load:\n",
        "\n",
        "            elements += len(data)\n",
        "            data = data.to(device)\n",
        "            target = target.to(device)\n",
        "\n",
        "            state = env.get_state(data)\n",
        "\n",
        "            if mode == \"agent\":\n",
        "              action = model.agent.select_action(state)\n",
        "            elif mode == \"random\":\n",
        "              action = model.env.action_space.sample()\n",
        "            else:\n",
        "              action = torch.tensor([1 for i in range(len(model.env.action_space.sample()))], dtype = torch.float)\n",
        "\n",
        "            ViTnet.set_patches(action)\n",
        "\n",
        "            output = functional.log_softmax(agent(data), dim=1)\n",
        "            loss = functional.nll_loss(output, target, reduction='sum')\n",
        "            _, pred = torch.max(output, dim=1)\n",
        "\n",
        "            tloss += loss.item()\n",
        "            csamp += pred.eq(target).sum()\n",
        "\n",
        "    loss_val = tloss / elements\n",
        "    acc_val = (100.0 * csamp / elements).cpu()\n",
        "\n",
        "    print('\\nAverage validation loss: ' + '{:.4f}'.format(loss_val) +\n",
        "          '  Accuracy:' + '{:5}'.format(csamp) + '/' +\n",
        "          '{:5}'.format(elements) + ' (' +\n",
        "          '{:4.2f}'.format(acc_val) + '%)\\n')\n",
        "\n",
        "    return loss_val, acc_val\n"
      ]
    },
    {
      "cell_type": "markdown",
      "source": [
        "### Train"
      ],
      "metadata": {
        "id": "akTharX5RaL8"
      }
    },
    {
      "cell_type": "markdown",
      "source": [
        "<h3> All Patches"
      ],
      "metadata": {
        "id": "7mrDXnFLRldw"
      }
    },
    {
      "cell_type": "code",
      "execution_count": null,
      "metadata": {
        "colab": {
          "base_uri": "https://localhost:8080/"
        },
        "id": "Qk6xh-DBwAK6",
        "outputId": "0238d8ae-915d-461d-be07-af1bb5157863"
      },
      "outputs": [
        {
          "name": "stdout",
          "output_type": "stream",
          "text": [
            "\n",
            "Average test loss: 0.2968  Accuracy:44753/50000 (89.51%)\n",
            "\n"
          ]
        },
        {
          "data": {
            "text/plain": [
              "(0.2968252645874023, tensor(89.5060))"
            ]
          },
          "execution_count": 39,
          "metadata": {},
          "output_type": "execute_result"
        }
      ],
      "source": [
        "evaluate_agent(ViTnet, train_loader, device)"
      ]
    },
    {
      "cell_type": "markdown",
      "source": [
        "<h3> Patches Selected By agent"
      ],
      "metadata": {
        "id": "usZfBwXwRqx-"
      }
    },
    {
      "cell_type": "code",
      "execution_count": null,
      "metadata": {
        "colab": {
          "base_uri": "https://localhost:8080/"
        },
        "id": "uAzHuqWKuTIp",
        "outputId": "4207236a-c83b-42c8-caa7-c68c4edf2ac5"
      },
      "outputs": [
        {
          "name": "stdout",
          "output_type": "stream",
          "text": [
            "\n",
            "Average test loss: 0.4375  Accuracy:42256/50000 (84.51%)\n",
            "\n"
          ]
        },
        {
          "data": {
            "text/plain": [
              "(0.4374778049850464, tensor(84.5120))"
            ]
          },
          "execution_count": 40,
          "metadata": {},
          "output_type": "execute_result"
        }
      ],
      "source": [
        "evaluate_agent(ViTnet, train_loader, device, mode = \"agent\")"
      ]
    },
    {
      "cell_type": "markdown",
      "source": [
        "<h3> Random Patches"
      ],
      "metadata": {
        "id": "g46_tdT9Rtg3"
      }
    },
    {
      "cell_type": "code",
      "execution_count": null,
      "metadata": {
        "colab": {
          "base_uri": "https://localhost:8080/"
        },
        "id": "i-BY6MmuwN8a",
        "outputId": "9b165131-88a1-49e4-aff1-da6ba6814ffd"
      },
      "outputs": [
        {
          "name": "stdout",
          "output_type": "stream",
          "text": [
            "\n",
            "Average test loss: 0.5301  Accuracy:40476/50000 (80.95%)\n",
            "\n"
          ]
        },
        {
          "data": {
            "text/plain": [
              "(0.5301350287628174, tensor(80.9520))"
            ]
          },
          "execution_count": 41,
          "metadata": {},
          "output_type": "execute_result"
        }
      ],
      "source": [
        "evaluate_agent(ViTnet, train_loader, device, mode = \"random\")"
      ]
    },
    {
      "cell_type": "markdown",
      "source": [
        "### Validation"
      ],
      "metadata": {
        "id": "9VY2VipXRejU"
      }
    },
    {
      "cell_type": "markdown",
      "source": [
        "<h3> All Patches"
      ],
      "metadata": {
        "id": "uygahgWaRx2P"
      }
    },
    {
      "cell_type": "code",
      "execution_count": null,
      "metadata": {
        "colab": {
          "base_uri": "https://localhost:8080/"
        },
        "id": "b1t7zSmv5P2B",
        "outputId": "52eeb0c8-b6c5-4302-c6ca-bdeaad303de0"
      },
      "outputs": [
        {
          "name": "stdout",
          "output_type": "stream",
          "text": [
            "\n",
            "Average test loss: 0.6246  Accuracy: 7542/ 9500 (79.39%)\n",
            "\n"
          ]
        },
        {
          "data": {
            "text/plain": [
              "(0.6245820922851563, tensor(79.3895))"
            ]
          },
          "execution_count": 42,
          "metadata": {},
          "output_type": "execute_result"
        }
      ],
      "source": [
        "evaluate_agent(ViTnet, test_loader, device)"
      ]
    },
    {
      "cell_type": "markdown",
      "source": [
        "<h3> Patches Selected By agent"
      ],
      "metadata": {
        "id": "FPKqXZkxRwNO"
      }
    },
    {
      "cell_type": "code",
      "execution_count": null,
      "metadata": {
        "colab": {
          "base_uri": "https://localhost:8080/"
        },
        "id": "7o6THlsX5P2E",
        "outputId": "7187c3fe-3264-41ad-a100-db18e5df9b21"
      },
      "outputs": [
        {
          "name": "stdout",
          "output_type": "stream",
          "text": [
            "\n",
            "Average test loss: 0.7428  Accuracy: 7201/ 9500 (75.80%)\n",
            "\n"
          ]
        },
        {
          "data": {
            "text/plain": [
              "(0.7427533075433028, tensor(75.8000))"
            ]
          },
          "execution_count": 43,
          "metadata": {},
          "output_type": "execute_result"
        }
      ],
      "source": [
        "evaluate_agent(ViTnet, test_loader, device, mode = \"agent\")"
      ]
    },
    {
      "cell_type": "markdown",
      "source": [
        "<h3> Random Patches"
      ],
      "metadata": {
        "id": "feUitG6eRzss"
      }
    },
    {
      "cell_type": "code",
      "execution_count": null,
      "metadata": {
        "colab": {
          "base_uri": "https://localhost:8080/"
        },
        "id": "au9fktKv5P2E",
        "outputId": "f75c660f-3276-47b0-ea39-b1dcd1cf9e39"
      },
      "outputs": [
        {
          "name": "stdout",
          "output_type": "stream",
          "text": [
            "\n",
            "Average test loss: 0.8210  Accuracy: 6964/ 9500 (73.31%)\n",
            "\n"
          ]
        },
        {
          "data": {
            "text/plain": [
              "(0.8210267769662958, tensor(73.3053))"
            ]
          },
          "execution_count": 44,
          "metadata": {},
          "output_type": "execute_result"
        }
      ],
      "source": [
        "evaluate_agent(ViTnet, test_loader, device, mode = \"random\")"
      ]
    }
  ],
  "metadata": {
    "accelerator": "GPU",
    "colab": {
      "collapsed_sections": [
        "rXC93PvZHALw",
        "-WOxO6GNga2i",
        "ng75uqlIgCvl",
        "YL2DwKZ1Mdkr",
        "dDu_n6NZDqEs",
        "Nql4-HUNB9YC",
        "7S_pihMq-XeA",
        "S9IYQ9yHAUwe",
        "akTharX5RaL8",
        "9VY2VipXRejU"
      ],
      "provenance": []
    },
    "kernelspec": {
      "display_name": "Python 3",
      "name": "python3"
    },
    "language_info": {
      "name": "python"
    }
  },
  "nbformat": 4,
  "nbformat_minor": 0
}